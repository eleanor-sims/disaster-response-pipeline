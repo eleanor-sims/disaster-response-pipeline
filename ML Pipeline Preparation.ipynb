{
 "cells": [
  {
   "cell_type": "markdown",
   "metadata": {},
   "source": [
    "# ML Pipeline Preparation\n",
    "Follow the instructions below to help you create your ML pipeline.\n",
    "### 1. Import libraries and load data from database.\n",
    "- Import Python libraries\n",
    "- Load dataset from database with [`read_sql_table`](https://pandas.pydata.org/pandas-docs/stable/generated/pandas.read_sql_table.html)\n",
    "- Define feature and target variables X and Y"
   ]
  },
  {
   "cell_type": "code",
   "execution_count": 1,
   "metadata": {},
   "outputs": [
    {
     "name": "stdout",
     "output_type": "stream",
     "text": [
      "[nltk_data] Downloading package punkt to /root/nltk_data...\n",
      "[nltk_data]   Package punkt is already up-to-date!\n",
      "[nltk_data] Downloading package wordnet to /root/nltk_data...\n",
      "[nltk_data]   Package wordnet is already up-to-date!\n",
      "[nltk_data] Downloading package stopwords to /root/nltk_data...\n",
      "[nltk_data]   Package stopwords is already up-to-date!\n"
     ]
    }
   ],
   "source": [
    "# download necessary NLTK data\n",
    "import nltk\n",
    "nltk.download(['punkt', 'wordnet', 'stopwords'])\n",
    "\n",
    "# import libraries\n",
    "import numpy as np\n",
    "import pandas as pd\n",
    "\n",
    "import sqlite3\n",
    "from sqlalchemy import create_engine\n",
    "\n",
    "import re\n",
    "from nltk.tokenize import word_tokenize\n",
    "from nltk.stem.wordnet import WordNetLemmatizer\n",
    "from nltk.corpus import stopwords\n",
    "\n",
    "from sklearn.multioutput import MultiOutputClassifier\n",
    "from sklearn.model_selection import train_test_split, GridSearchCV\n",
    "from sklearn.linear_model import LogisticRegression\n",
    "from sklearn.svm import LinearSVC\n",
    "from sklearn.metrics import classification_report\n",
    "from sklearn.pipeline import Pipeline\n",
    "from sklearn.feature_extraction.text import CountVectorizer, TfidfTransformer\n",
    "\n",
    "import pickle"
   ]
  },
  {
   "cell_type": "code",
   "execution_count": 2,
   "metadata": {},
   "outputs": [],
   "source": [
    "# load data from database\n",
    "def load_data():\n",
    "    engine = create_engine('sqlite:///DisasterResponse.db')\n",
    "    conn = sqlite3.connect('DisasterResponse.db')\n",
    "    df = pd.read_sql('SELECT * FROM df_clean', conn)\n",
    "    \n",
    "    target_col_list = [col for col in df.columns if col not in ['id','message','original','genre']]\n",
    "\n",
    "    X = df['message']\n",
    "    y = df[target_col_list]\n",
    "    \n",
    "    return X, y"
   ]
  },
  {
   "cell_type": "markdown",
   "metadata": {},
   "source": [
    "### 2. Write a tokenization function to process your text data"
   ]
  },
  {
   "cell_type": "code",
   "execution_count": 9,
   "metadata": {},
   "outputs": [],
   "source": [
    "url_regex = 'http[s]?://(?:[a-zA-Z]|[0-9]|[$-_@.&+]|[!*\\(\\),]|(?:%[0-9a-fA-F][0-9a-fA-F]))+'"
   ]
  },
  {
   "cell_type": "code",
   "execution_count": 10,
   "metadata": {},
   "outputs": [],
   "source": [
    "def tokenize(text):\n",
    "    # replace any urls with 'urlplaceholder'\n",
    "    text = re.sub(url_regex, \"urlplaceholder\", text)\n",
    "        \n",
    "    # remove punctuation\n",
    "    text = re.sub(r\"[^a-zA-Z0-9]\", \" \", text) \n",
    "\n",
    "    # convert all to lowercase\n",
    "    text = text.lower()\n",
    "    \n",
    "    # Tokenize text\n",
    "    tokens = word_tokenize(text)\n",
    "    \n",
    "    # Lemmatize\n",
    "    clean_tokens = []\n",
    "    for tok in tokens:\n",
    "        \n",
    "        # lemmatize, normalize case, and remove leading/trailing white space\n",
    "        clean_tok = WordNetLemmatizer().lemmatize(tok).lower().strip()\n",
    "        clean_tokens.append(clean_tok)\n",
    "\n",
    "    return clean_tokens"
   ]
  },
  {
   "cell_type": "markdown",
   "metadata": {},
   "source": [
    "### 3. Build a machine learning pipeline\n",
    "This machine pipeline should take in the `message` column as input and output classification results on the other 36 categories in the dataset. You may find the [MultiOutputClassifier](http://scikit-learn.org/stable/modules/generated/sklearn.multioutput.MultiOutputClassifier.html) helpful for predicting multiple target variables."
   ]
  },
  {
   "cell_type": "code",
   "execution_count": 11,
   "metadata": {},
   "outputs": [],
   "source": [
    "pipeline = Pipeline([\n",
    "        ('vect', CountVectorizer(tokenizer=tokenize)),\n",
    "        ('tfidf', TfidfTransformer()),\n",
    "        ('clf', MultiOutputClassifier(LogisticRegression()))\n",
    "    ])"
   ]
  },
  {
   "cell_type": "markdown",
   "metadata": {},
   "source": [
    "### 4. Train pipeline\n",
    "- Split data into train and test sets\n",
    "- Train pipeline"
   ]
  },
  {
   "cell_type": "code",
   "execution_count": 12,
   "metadata": {},
   "outputs": [],
   "source": [
    "# load data\n",
    "X, y = load_data()\n",
    "label_list = list(y.columns)\n",
    "\n",
    "# split data into train and test sets\n",
    "X_train, X_test, y_train, y_test = train_test_split(X, y, test_size=0.3, random_state=42)\n",
    "\n",
    "# train classifier\n",
    "pipeline.fit(X_train, y_train)\n",
    "\n",
    "# predict on test data\n",
    "y_pred = pipeline.predict(X_test)"
   ]
  },
  {
   "cell_type": "markdown",
   "metadata": {},
   "source": [
    "### 5. Test your model\n",
    "Report the f1 score, precision and recall for each output category of the dataset. You can do this by iterating through the columns and calling sklearn's `classification_report` on each."
   ]
  },
  {
   "cell_type": "code",
   "execution_count": 13,
   "metadata": {},
   "outputs": [
    {
     "name": "stdout",
     "output_type": "stream",
     "text": [
      "                        precision    recall  f1-score   support\n",
      "\n",
      "               related       0.83      0.96      0.89      5941\n",
      "               request       0.81      0.58      0.68      1333\n",
      "                 offer       0.00      0.00      0.00        34\n",
      "           aid_related       0.78      0.67      0.72      3286\n",
      "          medical_help       0.66      0.14      0.24       644\n",
      "      medical_products       0.77      0.15      0.25       414\n",
      "     search_and_rescue       0.93      0.06      0.11       239\n",
      "              security       0.00      0.00      0.00       156\n",
      "              military       0.67      0.08      0.15       267\n",
      "                 water       0.83      0.47      0.60       512\n",
      "                  food       0.83      0.60      0.70       878\n",
      "               shelter       0.82      0.42      0.56       714\n",
      "              clothing       0.75      0.12      0.21       123\n",
      "                 money       0.82      0.05      0.09       192\n",
      "        missing_people       1.00      0.01      0.02        88\n",
      "              refugees       0.55      0.05      0.09       259\n",
      "                 death       0.85      0.20      0.32       369\n",
      "             other_aid       0.57      0.11      0.19      1021\n",
      "infrastructure_related       0.48      0.02      0.04       521\n",
      "             transport       0.72      0.09      0.15       362\n",
      "             buildings       0.86      0.20      0.33       430\n",
      "           electricity       0.78      0.12      0.21       148\n",
      "                 tools       0.00      0.00      0.00        46\n",
      "             hospitals       0.00      0.00      0.00        90\n",
      "                 shops       0.00      0.00      0.00        39\n",
      "           aid_centers       0.00      0.00      0.00        86\n",
      "  other_infrastructure       0.14      0.00      0.01       350\n",
      "       weather_related       0.86      0.66      0.75      2188\n",
      "                floods       0.93      0.42      0.58       639\n",
      "                 storm       0.79      0.44      0.56       744\n",
      "                  fire       0.50      0.03      0.06        88\n",
      "            earthquake       0.90      0.65      0.75       734\n",
      "                  cold       0.84      0.09      0.17       169\n",
      "         other_weather       0.75      0.03      0.06       388\n",
      "         direct_report       0.77      0.50      0.61      1547\n",
      "\n",
      "           avg / total       0.77      0.54      0.59     25039\n",
      "\n"
     ]
    },
    {
     "name": "stderr",
     "output_type": "stream",
     "text": [
      "/opt/conda/lib/python3.6/site-packages/sklearn/metrics/classification.py:1135: UndefinedMetricWarning: Precision and F-score are ill-defined and being set to 0.0 in labels with no predicted samples.\n",
      "  'precision', 'predicted', average, warn_for)\n"
     ]
    }
   ],
   "source": [
    "print(classification_report(y_test, y_pred, target_names=label_list))"
   ]
  },
  {
   "cell_type": "markdown",
   "metadata": {},
   "source": [
    "### 6. Improve your model\n",
    "Use grid search to find better parameters. "
   ]
  },
  {
   "cell_type": "code",
   "execution_count": 25,
   "metadata": {},
   "outputs": [],
   "source": [
    "def build_model(estimator, parameters):\n",
    "    pipeline = Pipeline([\n",
    "        ('vect', CountVectorizer(tokenizer=tokenize)),\n",
    "        ('tfidf', TfidfTransformer()),\n",
    "        ('clf', MultiOutputClassifier(estimator))\n",
    "    ])\n",
    "\n",
    "    # create grid search object\n",
    "    cv = GridSearchCV(pipeline, param_grid=parameters)\n",
    "    \n",
    "    return cv\n",
    "\n",
    "def display_results(cv, y_test, y_pred):\n",
    "    label_list = y.columns\n",
    "    report = classification_report(y_test, y_pred, target_names=label_list)\n",
    "    print(report)\n",
    "    print(\"\\nBest Parameters:\", cv.best_params_)\n",
    "\n",
    "\n",
    "def main():\n",
    "    X, y = load_data()\n",
    "    X_train, X_test, y_train, y_test = train_test_split(X, y, test_size=0.3, random_state=42)\n",
    "\n",
    "    model = build_model(estimator, parameters)\n",
    "    model.fit(X_train, y_train)\n",
    "    y_pred = model.predict(X_test)\n",
    "    \n",
    "    display_results(model, y_test, y_pred)\n",
    "    return(model)\n",
    "                                   \n",
    "def get_class_report():\n",
    "    X, y = load_data()\n",
    "    X_train, X_test, y_train, y_test = train_test_split(X, y, test_size=0.3, random_state=42)\n",
    "\n",
    "    model = build_model(estimator, parameters)\n",
    "    model.fit(X_train, y_train)\n",
    "    y_pred = model.predict(X_test)\n",
    "    \n",
    "    label_list = y.columns\n",
    "    report = classification_report(y_test, y_pred, target_names=label_list, output_dict=True)                               \n",
    "    return report                               \n",
    "                                   \n",
    "                                   \n",
    "                                   "
   ]
  },
  {
   "cell_type": "code",
   "execution_count": 37,
   "metadata": {},
   "outputs": [
    {
     "data": {
      "text/plain": [
       "{'cv': None,\n",
       " 'error_score': 'raise',\n",
       " 'estimator__memory': None,\n",
       " 'estimator__steps': [('vect',\n",
       "   CountVectorizer(analyzer='word', binary=False, decode_error='strict',\n",
       "           dtype=<class 'numpy.int64'>, encoding='utf-8', input='content',\n",
       "           lowercase=True, max_df=1.0, max_features=None, min_df=1,\n",
       "           ngram_range=(1, 1), preprocessor=None, stop_words=None,\n",
       "           strip_accents=None, token_pattern='(?u)\\\\b\\\\w\\\\w+\\\\b',\n",
       "           tokenizer=<function tokenize at 0x7fee14f65d08>, vocabulary=None)),\n",
       "  ('tfidf',\n",
       "   TfidfTransformer(norm='l2', smooth_idf=True, sublinear_tf=False, use_idf=True)),\n",
       "  ('clf',\n",
       "   MultiOutputClassifier(estimator=LogisticRegression(C=1.0, class_weight=None, dual=False, fit_intercept=True,\n",
       "             intercept_scaling=1, max_iter=100, multi_class='ovr', n_jobs=1,\n",
       "             penalty='l2', random_state=None, solver='liblinear', tol=0.0001,\n",
       "             verbose=0, warm_start=False),\n",
       "              n_jobs=1))],\n",
       " 'estimator__vect': CountVectorizer(analyzer='word', binary=False, decode_error='strict',\n",
       "         dtype=<class 'numpy.int64'>, encoding='utf-8', input='content',\n",
       "         lowercase=True, max_df=1.0, max_features=None, min_df=1,\n",
       "         ngram_range=(1, 1), preprocessor=None, stop_words=None,\n",
       "         strip_accents=None, token_pattern='(?u)\\\\b\\\\w\\\\w+\\\\b',\n",
       "         tokenizer=<function tokenize at 0x7fee14f65d08>, vocabulary=None),\n",
       " 'estimator__tfidf': TfidfTransformer(norm='l2', smooth_idf=True, sublinear_tf=False, use_idf=True),\n",
       " 'estimator__clf': MultiOutputClassifier(estimator=LogisticRegression(C=1.0, class_weight=None, dual=False, fit_intercept=True,\n",
       "           intercept_scaling=1, max_iter=100, multi_class='ovr', n_jobs=1,\n",
       "           penalty='l2', random_state=None, solver='liblinear', tol=0.0001,\n",
       "           verbose=0, warm_start=False),\n",
       "            n_jobs=1),\n",
       " 'estimator__vect__analyzer': 'word',\n",
       " 'estimator__vect__binary': False,\n",
       " 'estimator__vect__decode_error': 'strict',\n",
       " 'estimator__vect__dtype': numpy.int64,\n",
       " 'estimator__vect__encoding': 'utf-8',\n",
       " 'estimator__vect__input': 'content',\n",
       " 'estimator__vect__lowercase': True,\n",
       " 'estimator__vect__max_df': 1.0,\n",
       " 'estimator__vect__max_features': None,\n",
       " 'estimator__vect__min_df': 1,\n",
       " 'estimator__vect__ngram_range': (1, 1),\n",
       " 'estimator__vect__preprocessor': None,\n",
       " 'estimator__vect__stop_words': None,\n",
       " 'estimator__vect__strip_accents': None,\n",
       " 'estimator__vect__token_pattern': '(?u)\\\\b\\\\w\\\\w+\\\\b',\n",
       " 'estimator__vect__tokenizer': <function __main__.tokenize(text)>,\n",
       " 'estimator__vect__vocabulary': None,\n",
       " 'estimator__tfidf__norm': 'l2',\n",
       " 'estimator__tfidf__smooth_idf': True,\n",
       " 'estimator__tfidf__sublinear_tf': False,\n",
       " 'estimator__tfidf__use_idf': True,\n",
       " 'estimator__clf__estimator__C': 1.0,\n",
       " 'estimator__clf__estimator__class_weight': None,\n",
       " 'estimator__clf__estimator__dual': False,\n",
       " 'estimator__clf__estimator__fit_intercept': True,\n",
       " 'estimator__clf__estimator__intercept_scaling': 1,\n",
       " 'estimator__clf__estimator__max_iter': 100,\n",
       " 'estimator__clf__estimator__multi_class': 'ovr',\n",
       " 'estimator__clf__estimator__n_jobs': 1,\n",
       " 'estimator__clf__estimator__penalty': 'l2',\n",
       " 'estimator__clf__estimator__random_state': None,\n",
       " 'estimator__clf__estimator__solver': 'liblinear',\n",
       " 'estimator__clf__estimator__tol': 0.0001,\n",
       " 'estimator__clf__estimator__verbose': 0,\n",
       " 'estimator__clf__estimator__warm_start': False,\n",
       " 'estimator__clf__estimator': LogisticRegression(C=1.0, class_weight=None, dual=False, fit_intercept=True,\n",
       "           intercept_scaling=1, max_iter=100, multi_class='ovr', n_jobs=1,\n",
       "           penalty='l2', random_state=None, solver='liblinear', tol=0.0001,\n",
       "           verbose=0, warm_start=False),\n",
       " 'estimator__clf__n_jobs': 1,\n",
       " 'estimator': Pipeline(memory=None,\n",
       "      steps=[('vect', CountVectorizer(analyzer='word', binary=False, decode_error='strict',\n",
       "         dtype=<class 'numpy.int64'>, encoding='utf-8', input='content',\n",
       "         lowercase=True, max_df=1.0, max_features=None, min_df=1,\n",
       "         ngram_range=(1, 1), preprocessor=None, stop_words=None,\n",
       "         strip...None, solver='liblinear', tol=0.0001,\n",
       "           verbose=0, warm_start=False),\n",
       "            n_jobs=1))]),\n",
       " 'fit_params': None,\n",
       " 'iid': True,\n",
       " 'n_jobs': 1,\n",
       " 'param_grid': {'clf__estimator__max_iter': [100, 500],\n",
       "  'clf__estimator__solver': ['liblinear', 'newton-cg', 'lbfgs']},\n",
       " 'pre_dispatch': '2*n_jobs',\n",
       " 'refit': True,\n",
       " 'return_train_score': 'warn',\n",
       " 'scoring': None,\n",
       " 'verbose': 0}"
      ]
     },
     "execution_count": 37,
     "metadata": {},
     "output_type": "execute_result"
    }
   ],
   "source": [
    "parameters = {\n",
    "        'clf__estimator__max_iter': [100, 500],\n",
    "        'clf__estimator__solver': ['liblinear', 'newton-cg', 'lbfgs']\n",
    "    }\n",
    "estimator = LogisticRegression()\n",
    "cv = build_model(estimator, parameters)\n",
    "cv.get_params()"
   ]
  },
  {
   "cell_type": "code",
   "execution_count": 38,
   "metadata": {},
   "outputs": [
    {
     "name": "stdout",
     "output_type": "stream",
     "text": [
      "                        precision    recall  f1-score   support\n",
      "\n",
      "               related       0.83      0.96      0.89      5941\n",
      "               request       0.82      0.58      0.68      1333\n",
      "                 offer       0.00      0.00      0.00        34\n",
      "           aid_related       0.78      0.67      0.72      3286\n",
      "          medical_help       0.66      0.15      0.24       644\n",
      "      medical_products       0.77      0.15      0.25       414\n",
      "     search_and_rescue       0.93      0.06      0.11       239\n",
      "              security       0.00      0.00      0.00       156\n",
      "              military       0.67      0.08      0.15       267\n",
      "                 water       0.83      0.48      0.60       512\n",
      "                  food       0.83      0.60      0.70       878\n",
      "               shelter       0.82      0.42      0.56       714\n",
      "              clothing       0.75      0.12      0.21       123\n",
      "                 money       0.82      0.05      0.09       192\n",
      "        missing_people       1.00      0.01      0.02        88\n",
      "              refugees       0.57      0.05      0.09       259\n",
      "                 death       0.85      0.20      0.32       369\n",
      "             other_aid       0.57      0.11      0.19      1021\n",
      "infrastructure_related       0.50      0.02      0.04       521\n",
      "             transport       0.70      0.09      0.15       362\n",
      "             buildings       0.86      0.20      0.33       430\n",
      "           electricity       0.77      0.11      0.20       148\n",
      "                 tools       0.00      0.00      0.00        46\n",
      "             hospitals       0.00      0.00      0.00        90\n",
      "                 shops       0.00      0.00      0.00        39\n",
      "           aid_centers       0.00      0.00      0.00        86\n",
      "  other_infrastructure       0.14      0.00      0.01       350\n",
      "       weather_related       0.86      0.66      0.75      2188\n",
      "                floods       0.93      0.42      0.57       639\n",
      "                 storm       0.79      0.44      0.56       744\n",
      "                  fire       0.50      0.03      0.06        88\n",
      "            earthquake       0.90      0.64      0.75       734\n",
      "                  cold       0.83      0.09      0.16       169\n",
      "         other_weather       0.71      0.03      0.06       388\n",
      "         direct_report       0.77      0.50      0.61      1547\n",
      "\n",
      "           avg / total       0.77      0.54      0.59     25039\n",
      "\n",
      "\n",
      "Best Parameters: {'clf__estimator__max_iter': 100, 'clf__estimator__solver': 'lbfgs'}\n"
     ]
    },
    {
     "name": "stderr",
     "output_type": "stream",
     "text": [
      "/opt/conda/lib/python3.6/site-packages/sklearn/metrics/classification.py:1135: UndefinedMetricWarning: Precision and F-score are ill-defined and being set to 0.0 in labels with no predicted samples.\n",
      "  'precision', 'predicted', average, warn_for)\n"
     ]
    }
   ],
   "source": [
    "main()"
   ]
  },
  {
   "cell_type": "markdown",
   "metadata": {},
   "source": [
    "### 7. Test your model\n",
    "Show the accuracy, precision, and recall of the tuned model.  \n",
    "\n",
    "Since this project focuses on code quality, process, and  pipelines, there is no minimum performance metric needed to pass. However, make sure to fine tune your models for accuracy, precision and recall to make your project stand out - especially for your portfolio!"
   ]
  },
  {
   "cell_type": "code",
   "execution_count": 12,
   "metadata": {},
   "outputs": [
    {
     "name": "stdout",
     "output_type": "stream",
     "text": [
      "                        precision    recall  f1-score   support\n",
      "\n",
      "               related       0.83      0.96      0.89      5941\n",
      "               request       0.82      0.58      0.68      1333\n",
      "                 offer       0.00      0.00      0.00        34\n",
      "           aid_related       0.78      0.67      0.72      3286\n",
      "          medical_help       0.66      0.15      0.24       644\n",
      "      medical_products       0.77      0.15      0.25       414\n",
      "     search_and_rescue       0.93      0.06      0.11       239\n",
      "              security       0.00      0.00      0.00       156\n",
      "              military       0.67      0.08      0.15       267\n",
      "                 water       0.83      0.48      0.60       512\n",
      "                  food       0.83      0.60      0.70       878\n",
      "               shelter       0.82      0.42      0.56       714\n",
      "              clothing       0.75      0.12      0.21       123\n",
      "                 money       0.82      0.05      0.09       192\n",
      "        missing_people       1.00      0.01      0.02        88\n",
      "              refugees       0.57      0.05      0.09       259\n",
      "                 death       0.85      0.20      0.32       369\n",
      "             other_aid       0.57      0.11      0.19      1021\n",
      "infrastructure_related       0.50      0.02      0.04       521\n",
      "             transport       0.70      0.09      0.15       362\n",
      "             buildings       0.86      0.20      0.33       430\n",
      "           electricity       0.77      0.11      0.20       148\n",
      "                 tools       0.00      0.00      0.00        46\n",
      "             hospitals       0.00      0.00      0.00        90\n",
      "                 shops       0.00      0.00      0.00        39\n",
      "           aid_centers       0.00      0.00      0.00        86\n",
      "  other_infrastructure       0.14      0.00      0.01       350\n",
      "       weather_related       0.86      0.66      0.75      2188\n",
      "                floods       0.93      0.42      0.57       639\n",
      "                 storm       0.79      0.44      0.56       744\n",
      "                  fire       0.50      0.03      0.06        88\n",
      "            earthquake       0.90      0.64      0.75       734\n",
      "                  cold       0.83      0.09      0.16       169\n",
      "         other_weather       0.71      0.03      0.06       388\n",
      "         direct_report       0.77      0.50      0.61      1547\n",
      "\n",
      "           avg / total       0.77      0.54      0.59     25039\n",
      "\n"
     ]
    },
    {
     "name": "stderr",
     "output_type": "stream",
     "text": [
      "/opt/conda/lib/python3.6/site-packages/sklearn/metrics/classification.py:1135: UndefinedMetricWarning: Precision and F-score are ill-defined and being set to 0.0 in labels with no predicted samples.\n",
      "  'precision', 'predicted', average, warn_for)\n"
     ]
    }
   ],
   "source": [
    "pipeline = Pipeline([\n",
    "        ('vect', CountVectorizer(tokenizer=tokenize)),\n",
    "        ('tfidf', TfidfTransformer()),\n",
    "        ('clf', MultiOutputClassifier(LogisticRegression(max_iter = 100, solver= 'lbfgs')))\n",
    "    ])\n",
    "\n",
    "# load data\n",
    "X, y = load_data()\n",
    "label_list = list(y.columns)\n",
    "\n",
    "# split data into train and test sets\n",
    "X_train, X_test, y_train, y_test = train_test_split(X, y, test_size=0.3, random_state=42)\n",
    "\n",
    "# train classifier\n",
    "pipeline.fit(X_train, y_train)\n",
    "\n",
    "# predict on test data\n",
    "y_pred = pipeline.predict(X_test)\n",
    "\n",
    "print(classification_report(y_test, y_pred, target_names=label_list))\n"
   ]
  },
  {
   "cell_type": "markdown",
   "metadata": {},
   "source": [
    "### 8. Try improving your model further. Here are a few ideas:\n",
    "* try other machine learning algorithms\n",
    "* add other features besides the TF-IDF"
   ]
  },
  {
   "cell_type": "code",
   "execution_count": 21,
   "metadata": {},
   "outputs": [
    {
     "name": "stdout",
     "output_type": "stream",
     "text": [
      "LogisticRegression(C=1.0, class_weight=None, dual=False, fit_intercept=True,\n",
      "          intercept_scaling=1, max_iter=100, multi_class='ovr', n_jobs=1,\n",
      "          penalty='l2', random_state=None, solver='lbfgs', tol=0.0001,\n",
      "          verbose=0, warm_start=False)\n",
      "                        precision    recall  f1-score   support\n",
      "\n",
      "               related       0.83      0.96      0.89      5941\n",
      "               request       0.82      0.58      0.68      1333\n",
      "                 offer       0.00      0.00      0.00        34\n",
      "           aid_related       0.78      0.67      0.72      3286\n",
      "          medical_help       0.66      0.15      0.24       644\n",
      "      medical_products       0.77      0.15      0.25       414\n",
      "     search_and_rescue       0.93      0.06      0.11       239\n",
      "              security       0.00      0.00      0.00       156\n",
      "              military       0.67      0.08      0.15       267\n",
      "                 water       0.83      0.48      0.60       512\n",
      "                  food       0.83      0.60      0.70       878\n",
      "               shelter       0.82      0.42      0.56       714\n",
      "              clothing       0.75      0.12      0.21       123\n",
      "                 money       0.82      0.05      0.09       192\n",
      "        missing_people       1.00      0.01      0.02        88\n",
      "              refugees       0.57      0.05      0.09       259\n",
      "                 death       0.85      0.20      0.32       369\n",
      "             other_aid       0.57      0.11      0.19      1021\n",
      "infrastructure_related       0.50      0.02      0.04       521\n",
      "             transport       0.70      0.09      0.15       362\n",
      "             buildings       0.86      0.20      0.33       430\n",
      "           electricity       0.77      0.11      0.20       148\n",
      "                 tools       0.00      0.00      0.00        46\n",
      "             hospitals       0.00      0.00      0.00        90\n",
      "                 shops       0.00      0.00      0.00        39\n",
      "           aid_centers       0.00      0.00      0.00        86\n",
      "  other_infrastructure       0.14      0.00      0.01       350\n",
      "       weather_related       0.86      0.66      0.75      2188\n",
      "                floods       0.93      0.42      0.57       639\n",
      "                 storm       0.79      0.44      0.56       744\n",
      "                  fire       0.50      0.03      0.06        88\n",
      "            earthquake       0.90      0.64      0.75       734\n",
      "                  cold       0.83      0.09      0.16       169\n",
      "         other_weather       0.71      0.03      0.06       388\n",
      "         direct_report       0.77      0.50      0.61      1547\n",
      "\n",
      "           avg / total       0.77      0.54      0.59     25039\n",
      "\n"
     ]
    },
    {
     "name": "stderr",
     "output_type": "stream",
     "text": [
      "/opt/conda/lib/python3.6/site-packages/sklearn/metrics/classification.py:1135: UndefinedMetricWarning: Precision and F-score are ill-defined and being set to 0.0 in labels with no predicted samples.\n",
      "  'precision', 'predicted', average, warn_for)\n"
     ]
    },
    {
     "name": "stdout",
     "output_type": "stream",
     "text": [
      "LinearSVC(C=1.0, class_weight=None, dual=True, fit_intercept=True,\n",
      "     intercept_scaling=1, loss='squared_hinge', max_iter=1000,\n",
      "     multi_class='ovr', penalty='l2', random_state=None, tol=0.0001,\n",
      "     verbose=0)\n",
      "                        precision    recall  f1-score   support\n",
      "\n",
      "               related       0.86      0.92      0.89      5941\n",
      "               request       0.75      0.61      0.68      1333\n",
      "                 offer       0.00      0.00      0.00        34\n",
      "           aid_related       0.73      0.69      0.71      3286\n",
      "          medical_help       0.64      0.27      0.38       644\n",
      "      medical_products       0.67      0.29      0.41       414\n",
      "     search_and_rescue       0.65      0.14      0.23       239\n",
      "              security       0.14      0.01      0.01       156\n",
      "              military       0.62      0.30      0.40       267\n",
      "                 water       0.76      0.61      0.67       512\n",
      "                  food       0.79      0.70      0.75       878\n",
      "               shelter       0.76      0.56      0.65       714\n",
      "              clothing       0.80      0.32      0.45       123\n",
      "                 money       0.62      0.25      0.36       192\n",
      "        missing_people       0.62      0.15      0.24        88\n",
      "              refugees       0.63      0.21      0.31       259\n",
      "                 death       0.77      0.45      0.57       369\n",
      "             other_aid       0.46      0.19      0.27      1021\n",
      "infrastructure_related       0.32      0.08      0.12       521\n",
      "             transport       0.69      0.23      0.35       362\n",
      "             buildings       0.67      0.39      0.49       430\n",
      "           electricity       0.69      0.30      0.42       148\n",
      "                 tools       0.00      0.00      0.00        46\n",
      "             hospitals       0.60      0.03      0.06        90\n",
      "                 shops       0.00      0.00      0.00        39\n",
      "           aid_centers       0.50      0.01      0.02        86\n",
      "  other_infrastructure       0.33      0.07      0.11       350\n",
      "       weather_related       0.82      0.72      0.77      2188\n",
      "                floods       0.88      0.57      0.69       639\n",
      "                 storm       0.75      0.61      0.67       744\n",
      "                  fire       0.69      0.25      0.37        88\n",
      "            earthquake       0.89      0.75      0.82       734\n",
      "                  cold       0.76      0.33      0.46       169\n",
      "         other_weather       0.50      0.13      0.21       388\n",
      "         direct_report       0.71      0.54      0.62      1547\n",
      "\n",
      "           avg / total       0.74      0.60      0.64     25039\n",
      "\n"
     ]
    },
    {
     "name": "stderr",
     "output_type": "stream",
     "text": [
      "/opt/conda/lib/python3.6/site-packages/sklearn/metrics/classification.py:1135: UndefinedMetricWarning: Precision and F-score are ill-defined and being set to 0.0 in labels with no predicted samples.\n",
      "  'precision', 'predicted', average, warn_for)\n"
     ]
    },
    {
     "name": "stdout",
     "output_type": "stream",
     "text": [
      "DecisionTreeClassifier(class_weight=None, criterion='gini', max_depth=None,\n",
      "            max_features=None, max_leaf_nodes=None,\n",
      "            min_impurity_decrease=0.0, min_impurity_split=None,\n",
      "            min_samples_leaf=1, min_samples_split=2,\n",
      "            min_weight_fraction_leaf=0.0, presort=False, random_state=None,\n",
      "            splitter='best')\n",
      "                        precision    recall  f1-score   support\n",
      "\n",
      "               related       0.82      0.85      0.83      5941\n",
      "               request       0.56      0.58      0.57      1333\n",
      "                 offer       0.00      0.00      0.00        34\n",
      "           aid_related       0.65      0.64      0.65      3286\n",
      "          medical_help       0.36      0.34      0.35       644\n",
      "      medical_products       0.38      0.36      0.37       414\n",
      "     search_and_rescue       0.24      0.20      0.22       239\n",
      "              security       0.13      0.10      0.11       156\n",
      "              military       0.39      0.38      0.38       267\n",
      "                 water       0.66      0.65      0.66       512\n",
      "                  food       0.68      0.72      0.70       878\n",
      "               shelter       0.60      0.61      0.60       714\n",
      "              clothing       0.59      0.48      0.53       123\n",
      "                 money       0.34      0.30      0.31       192\n",
      "        missing_people       0.21      0.24      0.22        88\n",
      "              refugees       0.35      0.33      0.34       259\n",
      "                 death       0.57      0.55      0.56       369\n",
      "             other_aid       0.30      0.27      0.28      1021\n",
      "infrastructure_related       0.22      0.20      0.21       521\n",
      "             transport       0.28      0.29      0.29       362\n",
      "             buildings       0.46      0.39      0.42       430\n",
      "           electricity       0.29      0.29      0.29       148\n",
      "                 tools       0.05      0.04      0.05        46\n",
      "             hospitals       0.15      0.13      0.14        90\n",
      "                 shops       0.02      0.03      0.02        39\n",
      "           aid_centers       0.07      0.06      0.06        86\n",
      "  other_infrastructure       0.19      0.17      0.18       350\n",
      "       weather_related       0.73      0.73      0.73      2188\n",
      "                floods       0.62      0.63      0.62       639\n",
      "                 storm       0.65      0.66      0.66       744\n",
      "                  fire       0.34      0.24      0.28        88\n",
      "            earthquake       0.78      0.78      0.78       734\n",
      "                  cold       0.55      0.49      0.52       169\n",
      "         other_weather       0.27      0.28      0.28       388\n",
      "         direct_report       0.53      0.52      0.53      1547\n",
      "\n",
      "           avg / total       0.60      0.60      0.60     25039\n",
      "\n",
      "RandomForestClassifier(bootstrap=True, class_weight=None, criterion='gini',\n",
      "            max_depth=None, max_features='auto', max_leaf_nodes=None,\n",
      "            min_impurity_decrease=0.0, min_impurity_split=None,\n",
      "            min_samples_leaf=1, min_samples_split=2,\n",
      "            min_weight_fraction_leaf=0.0, n_estimators=10, n_jobs=1,\n",
      "            oob_score=False, random_state=None, verbose=0,\n",
      "            warm_start=False)\n",
      "                        precision    recall  f1-score   support\n",
      "\n",
      "               related       0.83      0.94      0.88      5941\n",
      "               request       0.85      0.38      0.53      1333\n",
      "                 offer       0.00      0.00      0.00        34\n",
      "           aid_related       0.75      0.53      0.62      3286\n",
      "          medical_help       0.62      0.05      0.08       644\n",
      "      medical_products       0.75      0.10      0.18       414\n",
      "     search_and_rescue       0.38      0.01      0.02       239\n",
      "              security       0.29      0.01      0.02       156\n",
      "              military       0.69      0.07      0.14       267\n",
      "                 water       0.82      0.24      0.37       512\n",
      "                  food       0.85      0.36      0.50       878\n",
      "               shelter       0.78      0.26      0.39       714\n",
      "              clothing       0.73      0.07      0.12       123\n",
      "                 money       0.64      0.05      0.09       192\n",
      "        missing_people       0.67      0.02      0.04        88\n",
      "              refugees       0.50      0.09      0.15       259\n",
      "                 death       0.76      0.12      0.21       369\n",
      "             other_aid       0.53      0.04      0.07      1021\n",
      "infrastructure_related       0.18      0.00      0.01       521\n",
      "             transport       0.66      0.07      0.13       362\n",
      "             buildings       0.77      0.10      0.18       430\n",
      "           electricity       0.75      0.02      0.04       148\n",
      "                 tools       0.00      0.00      0.00        46\n",
      "             hospitals       1.00      0.01      0.02        90\n",
      "                 shops       0.00      0.00      0.00        39\n",
      "           aid_centers       0.00      0.00      0.00        86\n",
      "  other_infrastructure       0.60      0.02      0.03       350\n",
      "       weather_related       0.85      0.56      0.67      2188\n",
      "                floods       0.91      0.30      0.45       639\n",
      "                 storm       0.80      0.37      0.50       744\n",
      "                  fire       0.00      0.00      0.00        88\n",
      "            earthquake       0.89      0.65      0.75       734\n",
      "                  cold       0.91      0.06      0.11       169\n",
      "         other_weather       0.65      0.03      0.05       388\n",
      "         direct_report       0.81      0.31      0.45      1547\n",
      "\n",
      "           avg / total       0.75      0.46      0.51     25039\n",
      "\n"
     ]
    },
    {
     "name": "stderr",
     "output_type": "stream",
     "text": [
      "/opt/conda/lib/python3.6/site-packages/sklearn/metrics/classification.py:1135: UndefinedMetricWarning: Precision and F-score are ill-defined and being set to 0.0 in labels with no predicted samples.\n",
      "  'precision', 'predicted', average, warn_for)\n"
     ]
    },
    {
     "name": "stdout",
     "output_type": "stream",
     "text": [
      "KNeighborsClassifier(algorithm='auto', leaf_size=30, metric='minkowski',\n",
      "           metric_params=None, n_jobs=1, n_neighbors=5, p=2,\n",
      "           weights='uniform')\n",
      "                        precision    recall  f1-score   support\n",
      "\n",
      "               related       0.83      0.91      0.87      5941\n",
      "               request       0.66      0.60      0.63      1333\n",
      "                 offer       0.00      0.00      0.00        34\n",
      "           aid_related       0.65      0.66      0.65      3286\n",
      "          medical_help       0.31      0.18      0.23       644\n",
      "      medical_products       0.34      0.17      0.23       414\n",
      "     search_and_rescue       0.47      0.07      0.12       239\n",
      "              security       0.14      0.01      0.01       156\n",
      "              military       0.62      0.14      0.23       267\n",
      "                 water       0.41      0.36      0.38       512\n",
      "                  food       0.49      0.48      0.49       878\n",
      "               shelter       0.44      0.35      0.39       714\n",
      "              clothing       0.50      0.15      0.24       123\n",
      "                 money       0.52      0.08      0.14       192\n",
      "        missing_people       0.43      0.03      0.06        88\n",
      "              refugees       0.16      0.10      0.12       259\n",
      "                 death       0.34      0.29      0.31       369\n",
      "             other_aid       0.37      0.11      0.17      1021\n",
      "infrastructure_related       0.21      0.08      0.12       521\n",
      "             transport       0.34      0.15      0.21       362\n",
      "             buildings       0.39      0.23      0.29       430\n",
      "           electricity       0.24      0.15      0.18       148\n",
      "                 tools       0.00      0.00      0.00        46\n",
      "             hospitals       1.00      0.01      0.02        90\n",
      "                 shops       0.00      0.00      0.00        39\n",
      "           aid_centers       0.00      0.00      0.00        86\n",
      "  other_infrastructure       0.20      0.04      0.06       350\n",
      "       weather_related       0.66      0.59      0.62      2188\n",
      "                floods       0.45      0.35      0.40       639\n",
      "                 storm       0.55      0.37      0.44       744\n",
      "                  fire       0.39      0.12      0.19        88\n",
      "            earthquake       0.61      0.54      0.58       734\n",
      "                  cold       0.42      0.17      0.24       169\n",
      "         other_weather       0.24      0.15      0.18       388\n",
      "         direct_report       0.66      0.51      0.58      1547\n",
      "\n",
      "           avg / total       0.59      0.52      0.54     25039\n",
      "\n"
     ]
    },
    {
     "name": "stderr",
     "output_type": "stream",
     "text": [
      "/opt/conda/lib/python3.6/site-packages/sklearn/metrics/classification.py:1135: UndefinedMetricWarning: Precision and F-score are ill-defined and being set to 0.0 in labels with no predicted samples.\n",
      "  'precision', 'predicted', average, warn_for)\n"
     ]
    }
   ],
   "source": [
    "# https://www.learndatasci.com/glossary/binary-classification/\n",
    "# Support vector machines\n",
    "# Random forest\n",
    "# Neural networks\n",
    "\n",
    "# Run these in a loop\n",
    "models = {}\n",
    "\n",
    "# Logistic Regression\n",
    "from sklearn.linear_model import LogisticRegression\n",
    "models['Logistic Regression'] = LogisticRegression(max_iter = 100, solver= 'lbfgs')\n",
    "\n",
    "# Support Vector Machines\n",
    "from sklearn.svm import LinearSVC\n",
    "models['Support Vector Machines'] = LinearSVC()\n",
    "\n",
    "# Decision Trees\n",
    "from sklearn.tree import DecisionTreeClassifier\n",
    "models['Decision Trees'] = DecisionTreeClassifier()\n",
    "\n",
    "# Random Forest\n",
    "from sklearn.ensemble import RandomForestClassifier\n",
    "models['Random Forest'] = RandomForestClassifier()\n",
    "\n",
    "# K-Nearest Neighbors\n",
    "from sklearn.neighbors import KNeighborsClassifier\n",
    "models['K-Nearest Neighbor'] = KNeighborsClassifier()\n",
    "\n",
    "\n",
    "\n",
    "def run_model():\n",
    "    # load data\n",
    "    X, y = load_data()\n",
    "    label_list = list(y.columns)\n",
    "\n",
    "    # split data into train and test sets\n",
    "    X_train, X_test, y_train, y_test = train_test_split(X, y, test_size=0.3, random_state=42)\n",
    "\n",
    "    # train classifier\n",
    "    pipeline.fit(X_train, y_train)\n",
    "\n",
    "    # predict on test data\n",
    "    y_pred = pipeline.predict(X_test)\n",
    "    \n",
    "    print(models[key])\n",
    "    print(classification_report(y_test, y_pred, target_names=label_list))\n",
    "    \n",
    "\n",
    "for key in models.keys():\n",
    "    pipeline = Pipeline([\n",
    "            ('vect', CountVectorizer(tokenizer=tokenize)),\n",
    "            ('tfidf', TfidfTransformer()),\n",
    "            ('clf', MultiOutputClassifier(models[key]))\n",
    "        ])\n",
    "    \n",
    "    run_model()"
   ]
  },
  {
   "cell_type": "code",
   "execution_count": 22,
   "metadata": {},
   "outputs": [],
   "source": [
    "# Note: the model with the highest f1-score (harmonice mean of precision and recall, \n",
    "# i.e. a single metric that weights the two metrics in a balanced way)\n",
    "\n",
    "# SVC coming out on top so let's select that as our model and again run a grid search to determine optimum parameters"
   ]
  },
  {
   "cell_type": "code",
   "execution_count": 22,
   "metadata": {},
   "outputs": [
    {
     "data": {
      "text/plain": [
       "{'cv': None,\n",
       " 'error_score': 'raise',\n",
       " 'estimator__memory': None,\n",
       " 'estimator__steps': [('vect',\n",
       "   CountVectorizer(analyzer='word', binary=False, decode_error='strict',\n",
       "           dtype=<class 'numpy.int64'>, encoding='utf-8', input='content',\n",
       "           lowercase=True, max_df=1.0, max_features=None, min_df=1,\n",
       "           ngram_range=(1, 1), preprocessor=None, stop_words=None,\n",
       "           strip_accents=None, token_pattern='(?u)\\\\b\\\\w\\\\w+\\\\b',\n",
       "           tokenizer=<function tokenize at 0x7f916c63f488>, vocabulary=None)),\n",
       "  ('tfidf',\n",
       "   TfidfTransformer(norm='l2', smooth_idf=True, sublinear_tf=False, use_idf=True)),\n",
       "  ('clf',\n",
       "   MultiOutputClassifier(estimator=LinearSVC(C=1.0, class_weight=None, dual=True, fit_intercept=True,\n",
       "        intercept_scaling=1, loss='squared_hinge', max_iter=1000,\n",
       "        multi_class='ovr', penalty='l2', random_state=None, tol=0.0001,\n",
       "        verbose=0),\n",
       "              n_jobs=1))],\n",
       " 'estimator__vect': CountVectorizer(analyzer='word', binary=False, decode_error='strict',\n",
       "         dtype=<class 'numpy.int64'>, encoding='utf-8', input='content',\n",
       "         lowercase=True, max_df=1.0, max_features=None, min_df=1,\n",
       "         ngram_range=(1, 1), preprocessor=None, stop_words=None,\n",
       "         strip_accents=None, token_pattern='(?u)\\\\b\\\\w\\\\w+\\\\b',\n",
       "         tokenizer=<function tokenize at 0x7f916c63f488>, vocabulary=None),\n",
       " 'estimator__tfidf': TfidfTransformer(norm='l2', smooth_idf=True, sublinear_tf=False, use_idf=True),\n",
       " 'estimator__clf': MultiOutputClassifier(estimator=LinearSVC(C=1.0, class_weight=None, dual=True, fit_intercept=True,\n",
       "      intercept_scaling=1, loss='squared_hinge', max_iter=1000,\n",
       "      multi_class='ovr', penalty='l2', random_state=None, tol=0.0001,\n",
       "      verbose=0),\n",
       "            n_jobs=1),\n",
       " 'estimator__vect__analyzer': 'word',\n",
       " 'estimator__vect__binary': False,\n",
       " 'estimator__vect__decode_error': 'strict',\n",
       " 'estimator__vect__dtype': numpy.int64,\n",
       " 'estimator__vect__encoding': 'utf-8',\n",
       " 'estimator__vect__input': 'content',\n",
       " 'estimator__vect__lowercase': True,\n",
       " 'estimator__vect__max_df': 1.0,\n",
       " 'estimator__vect__max_features': None,\n",
       " 'estimator__vect__min_df': 1,\n",
       " 'estimator__vect__ngram_range': (1, 1),\n",
       " 'estimator__vect__preprocessor': None,\n",
       " 'estimator__vect__stop_words': None,\n",
       " 'estimator__vect__strip_accents': None,\n",
       " 'estimator__vect__token_pattern': '(?u)\\\\b\\\\w\\\\w+\\\\b',\n",
       " 'estimator__vect__tokenizer': <function __main__.tokenize(text)>,\n",
       " 'estimator__vect__vocabulary': None,\n",
       " 'estimator__tfidf__norm': 'l2',\n",
       " 'estimator__tfidf__smooth_idf': True,\n",
       " 'estimator__tfidf__sublinear_tf': False,\n",
       " 'estimator__tfidf__use_idf': True,\n",
       " 'estimator__clf__estimator__C': 1.0,\n",
       " 'estimator__clf__estimator__class_weight': None,\n",
       " 'estimator__clf__estimator__dual': True,\n",
       " 'estimator__clf__estimator__fit_intercept': True,\n",
       " 'estimator__clf__estimator__intercept_scaling': 1,\n",
       " 'estimator__clf__estimator__loss': 'squared_hinge',\n",
       " 'estimator__clf__estimator__max_iter': 1000,\n",
       " 'estimator__clf__estimator__multi_class': 'ovr',\n",
       " 'estimator__clf__estimator__penalty': 'l2',\n",
       " 'estimator__clf__estimator__random_state': None,\n",
       " 'estimator__clf__estimator__tol': 0.0001,\n",
       " 'estimator__clf__estimator__verbose': 0,\n",
       " 'estimator__clf__estimator': LinearSVC(C=1.0, class_weight=None, dual=True, fit_intercept=True,\n",
       "      intercept_scaling=1, loss='squared_hinge', max_iter=1000,\n",
       "      multi_class='ovr', penalty='l2', random_state=None, tol=0.0001,\n",
       "      verbose=0),\n",
       " 'estimator__clf__n_jobs': 1,\n",
       " 'estimator': Pipeline(memory=None,\n",
       "      steps=[('vect', CountVectorizer(analyzer='word', binary=False, decode_error='strict',\n",
       "         dtype=<class 'numpy.int64'>, encoding='utf-8', input='content',\n",
       "         lowercase=True, max_df=1.0, max_features=None, min_df=1,\n",
       "         ngram_range=(1, 1), preprocessor=None, stop_words=None,\n",
       "         strip...ti_class='ovr', penalty='l2', random_state=None, tol=0.0001,\n",
       "      verbose=0),\n",
       "            n_jobs=1))]),\n",
       " 'fit_params': None,\n",
       " 'iid': True,\n",
       " 'n_jobs': 1,\n",
       " 'param_grid': {'clf__estimator__loss': ['hinge', 'squared_hinge']},\n",
       " 'pre_dispatch': '2*n_jobs',\n",
       " 'refit': True,\n",
       " 'return_train_score': 'warn',\n",
       " 'scoring': None,\n",
       " 'verbose': 0}"
      ]
     },
     "execution_count": 22,
     "metadata": {},
     "output_type": "execute_result"
    }
   ],
   "source": [
    "parameters = {\n",
    "        'clf__estimator__loss': ['hinge', 'squared_hinge']\n",
    "        #, 'clf__estimator__max_iter': [1000, 500, 5000],\n",
    "        #'clf__estimator__dual': [True, False]\n",
    "    }\n",
    "estimator = LinearSVC()\n",
    "\n",
    "cv = build_model(estimator, parameters)\n",
    "cv.get_params()"
   ]
  },
  {
   "cell_type": "code",
   "execution_count": 44,
   "metadata": {},
   "outputs": [
    {
     "name": "stdout",
     "output_type": "stream",
     "text": [
      "                        precision    recall  f1-score   support\n",
      "\n",
      "               related       0.86      0.93      0.89      5941\n",
      "               request       0.80      0.62      0.70      1333\n",
      "                 offer       0.00      0.00      0.00        34\n",
      "           aid_related       0.76      0.70      0.73      3286\n",
      "          medical_help       0.68      0.20      0.31       644\n",
      "      medical_products       0.74      0.25      0.38       414\n",
      "     search_and_rescue       0.78      0.12      0.21       239\n",
      "              security       0.00      0.00      0.00       156\n",
      "              military       0.69      0.25      0.36       267\n",
      "                 water       0.76      0.65      0.70       512\n",
      "                  food       0.79      0.75      0.77       878\n",
      "               shelter       0.82      0.54      0.65       714\n",
      "              clothing       0.77      0.41      0.54       123\n",
      "                 money       0.80      0.12      0.22       192\n",
      "        missing_people       0.57      0.18      0.28        88\n",
      "              refugees       0.61      0.17      0.26       259\n",
      "                 death       0.80      0.44      0.56       369\n",
      "             other_aid       0.61      0.09      0.15      1021\n",
      "infrastructure_related       0.00      0.00      0.00       521\n",
      "             transport       0.70      0.18      0.29       362\n",
      "             buildings       0.80      0.34      0.48       430\n",
      "           electricity       0.79      0.22      0.35       148\n",
      "                 tools       0.00      0.00      0.00        46\n",
      "             hospitals       0.00      0.00      0.00        90\n",
      "                 shops       0.00      0.00      0.00        39\n",
      "           aid_centers       0.00      0.00      0.00        86\n",
      "  other_infrastructure       0.00      0.00      0.00       350\n",
      "       weather_related       0.85      0.73      0.78      2188\n",
      "                floods       0.92      0.56      0.70       639\n",
      "                 storm       0.77      0.63      0.70       744\n",
      "                  fire       0.68      0.24      0.35        88\n",
      "            earthquake       0.89      0.80      0.85       734\n",
      "                  cold       0.79      0.26      0.39       169\n",
      "         other_weather       0.81      0.07      0.12       388\n",
      "         direct_report       0.76      0.51      0.61      1547\n",
      "\n",
      "           avg / total       0.75      0.59      0.64     25039\n",
      "\n",
      "\n",
      "Best Parameters: {'clf__estimator__loss': 'hinge'}\n"
     ]
    },
    {
     "name": "stderr",
     "output_type": "stream",
     "text": [
      "/opt/conda/lib/python3.6/site-packages/sklearn/metrics/classification.py:1135: UndefinedMetricWarning: Precision and F-score are ill-defined and being set to 0.0 in labels with no predicted samples.\n",
      "  'precision', 'predicted', average, warn_for)\n"
     ]
    }
   ],
   "source": [
    "main()"
   ]
  },
  {
   "cell_type": "markdown",
   "metadata": {},
   "source": [
    "### 9. Export your model as a pickle file"
   ]
  },
  {
   "cell_type": "code",
   "execution_count": 46,
   "metadata": {},
   "outputs": [
    {
     "name": "stdout",
     "output_type": "stream",
     "text": [
      "                        precision    recall  f1-score   support\n",
      "\n",
      "               related       0.86      0.93      0.89      5941\n",
      "               request       0.80      0.62      0.70      1333\n",
      "                 offer       0.00      0.00      0.00        34\n",
      "           aid_related       0.76      0.70      0.73      3286\n",
      "          medical_help       0.68      0.20      0.31       644\n",
      "      medical_products       0.74      0.25      0.38       414\n",
      "     search_and_rescue       0.78      0.12      0.21       239\n",
      "              security       0.00      0.00      0.00       156\n",
      "              military       0.69      0.25      0.36       267\n",
      "                 water       0.76      0.65      0.70       512\n",
      "                  food       0.79      0.75      0.77       878\n",
      "               shelter       0.82      0.54      0.65       714\n",
      "              clothing       0.77      0.41      0.54       123\n",
      "                 money       0.80      0.12      0.22       192\n",
      "        missing_people       0.57      0.18      0.28        88\n",
      "              refugees       0.61      0.17      0.26       259\n",
      "                 death       0.80      0.44      0.56       369\n",
      "             other_aid       0.61      0.09      0.15      1021\n",
      "infrastructure_related       0.00      0.00      0.00       521\n",
      "             transport       0.70      0.18      0.29       362\n",
      "             buildings       0.80      0.34      0.48       430\n",
      "           electricity       0.79      0.22      0.35       148\n",
      "                 tools       0.00      0.00      0.00        46\n",
      "             hospitals       0.00      0.00      0.00        90\n",
      "                 shops       0.00      0.00      0.00        39\n",
      "           aid_centers       0.00      0.00      0.00        86\n",
      "  other_infrastructure       0.00      0.00      0.00       350\n",
      "       weather_related       0.85      0.73      0.78      2188\n",
      "                floods       0.92      0.56      0.70       639\n",
      "                 storm       0.77      0.63      0.70       744\n",
      "                  fire       0.68      0.24      0.35        88\n",
      "            earthquake       0.89      0.80      0.85       734\n",
      "                  cold       0.79      0.26      0.39       169\n",
      "         other_weather       0.81      0.07      0.12       388\n",
      "         direct_report       0.76      0.51      0.61      1547\n",
      "\n",
      "           avg / total       0.75      0.59      0.64     25039\n",
      "\n",
      "\n",
      "Best Parameters: {'clf__estimator__loss': 'hinge'}\n"
     ]
    },
    {
     "name": "stderr",
     "output_type": "stream",
     "text": [
      "/opt/conda/lib/python3.6/site-packages/sklearn/metrics/classification.py:1135: UndefinedMetricWarning: Precision and F-score are ill-defined and being set to 0.0 in labels with no predicted samples.\n",
      "  'precision', 'predicted', average, warn_for)\n"
     ]
    }
   ],
   "source": [
    "estimator = LinearSVC(loss='hinge')\n",
    "parameters = {\n",
    "        'clf__estimator__loss': ['hinge']\n",
    "        #, 'clf__estimator__max_iter': [1000, 500, 5000],\n",
    "        #'clf__estimator__dual': [True, False]\n",
    "    }\n",
    "\n",
    "model = main()"
   ]
  },
  {
   "cell_type": "code",
   "execution_count": 48,
   "metadata": {},
   "outputs": [],
   "source": [
    "filename = 'final_model.sav'\n",
    "pickle.dump(model, open(filename, 'wb'))"
   ]
  },
  {
   "cell_type": "markdown",
   "metadata": {},
   "source": [
    "### 10. Use this notebook to complete `train.py`\n",
    "Use the template file attached in the Resources folder to write a script that runs the steps above to create a database and export a model based on a new dataset specified by the user."
   ]
  },
  {
   "cell_type": "code",
   "execution_count": 10,
   "metadata": {},
   "outputs": [
    {
     "data": {
      "application/vnd.plotly.v1+json": {
       "config": {
        "plotlyServerURL": "https://plot.ly"
       },
       "data": [
        {
         "coloraxis": "coloraxis",
         "hovertemplate": "x: %{x}<br>y: %{y}<br>color: %{z}<extra></extra>",
         "name": "0",
         "type": "heatmap",
         "xaxis": "x",
         "yaxis": "y",
         "z": [
          [
           1,
           0.25266129245411295,
           0.037425013004486814,
           0.4692512253829285,
           0.16360823825819265,
           0.12782232665069543,
           0.09380572760465733,
           0.07528529904838431,
           0.10251313987927552,
           0.14530140596051874,
           0.19724957857750824,
           0.1732343186619051,
           0.06972157449940442,
           0.08547737806597262,
           0.05968193587461329,
           0.103434112848151,
           0.12159997559331105,
           0.21663623424068937,
           0.14682779761761006,
           0.12197309511441243,
           0.12884430351737805,
           0.08010773522033778,
           0.043477383947055116,
           0.05814353500683404,
           0.03774229819562744,
           0.06078646153814387,
           0.11928705631655193,
           0.34613566793623335,
           0.16661910641115465,
           0.17848365708854813,
           0.05803958981389067,
           0.1789670102023438,
           0.07995387910624807,
           0.13102006187207746,
           0.2729289343859121
          ],
          [
           0.25266129245411295,
           1,
           -0.030746192913111488,
           0.4467427401646558,
           0.12786525071572663,
           0.10576140294250283,
           0.07093512568878989,
           0.05656187232445988,
           -0.04490865460450795,
           0.23865526784145932,
           0.35044130182572236,
           0.2798891807346426,
           0.08177151487083911,
           0.06234658442730238,
           0.02754450076714853,
           0.023499985900201126,
           0.008158455782983893,
           0.24297211624458953,
           0.020959677240976898,
           0.02502596193756708,
           0.062304426234457325,
           0.009754170367358605,
           0.01917109799424554,
           0.016059410909012924,
           0.03212820341713457,
           0.022457203458181547,
           -0.003391739319689346,
           -0.016616814513009545,
           -0.006439773255529306,
           -0.0467662493265244,
           -0.009318788119763654,
           0.005924993670630824,
           -0.002237030354008241,
           -0.016166082270786874,
           0.6473742181141177
          ],
          [
           0.037425013004486814,
           -0.030746192913111488,
           1,
           0.06699683263500655,
           0.005377780914764603,
           0.03932015179963459,
           -0.0009818170392660187,
           -0.009161420435936922,
           0.0003235471633294191,
           0.005644616085582912,
           0.06294088646110028,
           0.00504236393425489,
           0.05620778147024203,
           0.054174826363499365,
           -0.007262657037815907,
           -0.00941385302006389,
           -0.014797424138475823,
           0.03269792543488723,
           -0.013244366641278019,
           -0.003938662840951815,
           -0.015678981822730417,
           -0.0016646703101049827,
           -0.005290735360401962,
           -0.0015606924826697401,
           -0.004592836401785041,
           -0.0021167513396726785,
           -0.014515966454211247,
           -0.014109546811714304,
           -0.0015977268214050237,
           -0.013875404057944374,
           -0.0015383814621188242,
           -0.011994687068151008,
           -0.009729536991094113,
           -0.0057204560721026265,
           0.0187544281453344
          ],
          [
           0.4692512253829285,
           0.4467427401646558,
           0.06699683263500655,
           1,
           0.34865809487144617,
           0.27239636198369643,
           0.19990513083499079,
           0.16043708567178214,
           0.21846110214331962,
           0.3096452350060155,
           0.4203496291704753,
           0.369171798156689,
           0.14858048466978366,
           0.18215696292796765,
           0.12718546621987642,
           0.22042374585958233,
           0.25913619190675374,
           0.4616636516265452,
           0.19700997505339662,
           0.15445708150888743,
           0.14874195092551873,
           0.06939570430558804,
           0.08565311033524503,
           0.10812943491695563,
           0.0643288116692,
           0.11587114243619842,
           0.13065725991141586,
           0.20631413876373603,
           0.1662052581697031,
           0.05842275513343045,
           0.05293819266906603,
           0.07881949047218684,
           0.08046566280112816,
           0.12495914080131014,
           0.37316468213865644
          ],
          [
           0.16360823825819265,
           0.12786525071572663,
           0.005377780914764603,
           0.34865809487144617,
           1,
           0.3407888609451198,
           0.10332925494915886,
           0.060840532414206616,
           0.005656275667177848,
           0.13633834224817912,
           0.08830990307919387,
           0.08143678116275602,
           0.03954424677192922,
           0.021286950329199517,
           0.08534802966910073,
           0.08085043203350971,
           0.1200383166921492,
           0.08190369893243736,
           0.10898906968871275,
           0.23403867149810442,
           0.03934784117436894,
           0.020413507135198856,
           0.053176136205791424,
           0.16427332479075132,
           0.03634399743980144,
           0.060462282944775396,
           0.034320520510784554,
           0.09541577462839054,
           0.18516829992798622,
           0.006502050375013135,
           0.026557317412941216,
           0.015225093929707155,
           0.030634802435202387,
           0.03848171091617709,
           0.09849659522916358
          ],
          [
           0.12782232665069543,
           0.10576140294250283,
           0.03932015179963459,
           0.27239636198369643,
           0.3407888609451198,
           1,
           0.08057137882560149,
           0.059578034933104616,
           -0.005286904699397312,
           0.24820142359631767,
           0.19100611319345423,
           0.164234418753207,
           0.17810241150660347,
           0.04375983646508413,
           0.10059960496480581,
           0.08167407918430289,
           0.05937979879517846,
           0.10678310846131242,
           0.09719560585768142,
           0.12167544683977595,
           0.03165995619831658,
           0.047345387188143094,
           0.07655121717311536,
           0.09940384009708422,
           0.04391380476106985,
           0.08008603671528551,
           0.043493571957122903,
           0.04529508776497811,
           0.09127788723771438,
           -0.00014373045114677695,
           0.03353128894694514,
           0.003697297809516612,
           0.04010075550578929,
           0.031840298953009764,
           0.06202666667003934
          ],
          [
           0.09380572760465733,
           0.07093512568878989,
           -0.0009818170392660187,
           0.19990513083499079,
           0.10332925494915886,
           0.08057137882560149,
           1,
           0.10147974768388136,
           0.04584996778098945,
           0.02333823166987157,
           0.010132489843024733,
           0.036639708783885505,
           0.012712644512703134,
           0.014275058985479218,
           0.22775754435803303,
           0.12788592651494327,
           0.11366995796641827,
           0.08282189624129653,
           0.09497060849580839,
           0.17995551531710544,
           0.09318585511136183,
           0.05647208563477213,
           0.09168253337045001,
           0.0746333071827171,
           0.022976170924083918,
           0.04401522021219673,
           0.061348189576901385,
           0.1430529326127859,
           0.1433278605705552,
           0.038489804610326916,
           0.05225861340883468,
           0.06531689310929344,
           0.0649393044006957,
           0.04460903229575884,
           0.05651320689718433
          ],
          [
           0.07528529904838431,
           0.05656187232445988,
           -0.009161420435936922,
           0.16043708567178214,
           0.060840532414206616,
           0.059578034933104616,
           0.10147974768388136,
           1,
           0.1603437929236674,
           -0.005003691579773926,
           0.0019222206849230114,
           0.02038218976634105,
           0.048139080989226216,
           -0.0017802514368847543,
           0.14794458132334856,
           0.10740550848562369,
           0.09835774773138765,
           0.06092583388417849,
           0.06540746311856739,
           0.14736936784018545,
           0.042989604563313986,
           0.03335119318223902,
           0.0670364770603218,
           0.041352848976374,
           0.04607186962730603,
           0.033020511094266645,
           0.03248592180398078,
           0.07953973604346,
           0.10668728792607303,
           0.0027591052054625003,
           0.058180710833747,
           0.01930343247370961,
           0.037568057052475325,
           0.013009585742566696,
           0.04813396022041189
          ],
          [
           0.10251313987927552,
           -0.04490865460450795,
           0.0003235471633294191,
           0.21846110214331962,
           0.005656275667177848,
           -0.005286904699397312,
           0.04584996778098945,
           0.1603437929236674,
           1,
           -0.017748696765647384,
           -0.028987036760770985,
           -0.023757982738352355,
           -0.004136371810380183,
           -0.001366233309769137,
           0.024555400130469675,
           0.057347235286587514,
           0.09816716013831212,
           -0.0018141113993859653,
           0.05444000318341297,
           0.01979161138560085,
           0.005807571486733148,
           0.012793547326889384,
           0.035161492212529635,
           0.030362983893748113,
           0.022321643802063675,
           0.03133641314266426,
           0.033424527669524494,
           -0.016319347980468277,
           -0.000939178793252308,
           -0.03222312368035669,
           0.042942517411605985,
           -0.019941945062802287,
           0.011395864262442709,
           0.006277478385994377,
           -0.03889136389768748
          ],
          [
           0.14530140596051874,
           0.23865526784145932,
           0.005644616085582912,
           0.3096452350060155,
           0.13633834224817912,
           0.24820142359631767,
           0.02333823166987157,
           -0.005003691579773926,
           -0.017748696765647384,
           1,
           0.35150144264176325,
           0.2077697631415275,
           0.1000029974336753,
           0.02622881989465703,
           0.004208140550827596,
           0.03285584248717843,
           0.006965311174152516,
           0.04421743580283581,
           0.07883612108550579,
           0.023042778179107177,
           0.031542065867370996,
           0.06182404777001819,
           0.033758294310491974,
           0.03599406564793263,
           0.04693790091867079,
           0.0595369252763124,
           0.05568925824758073,
           -0.0009588504540070751,
           0.020793139480908922,
           -0.004800862701392701,
           0.013448843553552099,
           -0.018607387724644493,
           0.0066055273528929275,
           0.04804607554648733,
           0.1926185861917203
          ],
          [
           0.19724957857750824,
           0.35044130182572236,
           0.06294088646110028,
           0.4203496291704753,
           0.08830990307919387,
           0.19100611319345423,
           0.010132489843024733,
           0.0019222206849230114,
           -0.028987036760770985,
           0.35150144264176325,
           1,
           0.22879732162853414,
           0.19714396069222329,
           0.053479940047962,
           -0.01311471030088585,
           0.024125478474950404,
           -5.162012881755644e-05,
           0.035546738549150796,
           0.039603412489746956,
           0.013992957686439652,
           0.01451878401451819,
           0.00021951812689627626,
           0.026772946799410387,
           0.0014297419361857097,
           0.04225443266540362,
           0.03853399386913504,
           0.025297273060790174,
           -0.016652317755353353,
           0.012358963367614183,
           -0.0018167450632923534,
           0.0074413613897224146,
           -0.05732969999783274,
           0.0021365395981264917,
           0.044848302179762746,
           0.29702204561713835
          ],
          [
           0.1732343186619051,
           0.2798891807346426,
           0.00504236393425489,
           0.369171798156689,
           0.08143678116275602,
           0.164234418753207,
           0.036639708783885505,
           0.02038218976634105,
           -0.023757982738352355,
           0.2077697631415275,
           0.22879732162853414,
           1,
           0.16578300875030086,
           0.037929354088308345,
           0.004449450949679611,
           0.18814496349990845,
           0.019905023243963572,
           0.06637224779780204,
           0.14754413015172824,
           0.025883905190298588,
           0.21647862655712113,
           0.02356749548332385,
           0.04654174010083327,
           0.027127935700600722,
           0.04848616507474272,
           0.15645630378820555,
           0.09696519001719663,
           0.09024220355141066,
           0.06731349001220623,
           0.054068651514124495,
           0.016859403169464687,
           0.020664266483001015,
           0.07157079964729572,
           0.052888498731219306,
           0.23367914985934332
          ],
          [
           0.06972157449940442,
           0.08177151487083911,
           0.05620778147024203,
           0.14858048466978366,
           0.03954424677192922,
           0.17810241150660347,
           0.012712644512703134,
           0.048139080989226216,
           -0.004136371810380183,
           0.1000029974336753,
           0.19714396069222329,
           0.16578300875030086,
           1,
           0.05278688204833766,
           0.00689520144724061,
           0.016163184585600933,
           -0.006794039872333149,
           0.047059873361488445,
           0.029446866712309186,
           0.021177383569865336,
           0.014446214238512218,
           0.019134720632675937,
           0.029982669563514985,
           0.046685824256689684,
           0.014355576571242323,
           0.03494328428480609,
           0.004666111394970924,
           0.011373881144911651,
           0.009538803985505743,
           -0.003207655559233354,
           0.007832448597878747,
           -0.0033989381064806054,
           0.04121740571130591,
           0.0022046757901381157,
           0.06662548258317133
          ],
          [
           0.08547737806597262,
           0.06234658442730238,
           0.054174826363499365,
           0.18215696292796765,
           0.021286950329199517,
           0.04375983646508413,
           0.014275058985479218,
           -0.0017802514368847543,
           -0.001366233309769137,
           0.02622881989465703,
           0.053479940047962,
           0.037929354088308345,
           0.05278688204833766,
           1,
           0.002601795816065546,
           0.016557684766089847,
           -0.002082985817812247,
           0.08887192411757677,
           0.06233213892063265,
           0.026918163855111796,
           0.035964653972639496,
           0.021018569669199086,
           0.023941209741129288,
           0.028132737169688064,
           0.027179884787414715,
           0.03493961487356548,
           0.05249318690343431,
           0.06855479162892407,
           0.04536745434862661,
           0.023020419122970825,
           0.0035890005580381983,
           0.062016591063065854,
           0.004880046076875139,
           0.0320102963963016,
           0.016251300564271248
          ],
          [
           0.05968193587461329,
           0.02754450076714853,
           -0.007262657037815907,
           0.12718546621987642,
           0.08534802966910073,
           0.10059960496480581,
           0.22775754435803303,
           0.14794458132334856,
           0.024555400130469675,
           0.004208140550827596,
           -0.01311471030088585,
           0.004449450949679611,
           0.00689520144724061,
           0.002601795816065546,
           1,
           0.13620950698873205,
           0.19217553347922384,
           0.06664593501087338,
           0.041568874244380605,
           0.20355344745195994,
           0.035613680906984226,
           0.022737929563980287,
           0.03791012128939775,
           0.020057928960693843,
           0.024661514876915196,
           0.0315499276500179,
           0.029549676374972796,
           0.12257506915990694,
           0.17210342500336306,
           0.030994648994588425,
           0.009667640941965825,
           0.05299780078193432,
           0.027952342145954958,
           0.031061001464965758,
           0.008108315027618558
          ],
          [
           0.103434112848151,
           0.023499985900201126,
           -0.00941385302006389,
           0.22042374585958233,
           0.08085043203350971,
           0.08167407918430289,
           0.12788592651494327,
           0.10740550848562369,
           0.057347235286587514,
           0.03285584248717843,
           0.024125478474950404,
           0.18814496349990845,
           0.016163184585600933,
           0.016557684766089847,
           0.13620950698873205,
           1,
           0.10072547634416203,
           0.07493940148467862,
           0.12034036071507695,
           0.1418639649356733,
           0.08817763867379401,
           0.016744634963313843,
           0.02367610573775451,
           0.023609068655490256,
           0.043944315602046924,
           0.12519173579974952,
           0.08015284434665558,
           0.10473116494698599,
           0.1473950045026317,
           0.03718278041564521,
           0.03195576758990444,
           0.01711581182718562,
           0.03196915536369375,
           0.045478728579530295,
           0.005052284564954886
          ],
          [
           0.12159997559331105,
           0.008158455782983893,
           -0.014797424138475823,
           0.25913619190675374,
           0.1200383166921492,
           0.05937979879517846,
           0.11366995796641827,
           0.09835774773138765,
           0.09816716013831212,
           0.006965311174152516,
           -5.162012881755644e-05,
           0.019905023243963572,
           -0.006794039872333149,
           -0.002082985817812247,
           0.19217553347922384,
           0.10072547634416203,
           1,
           0.022171998538391087,
           0.07851817659835975,
           0.1347213489480467,
           0.11984136738779382,
           0.013750953884748486,
           0.02287552329741144,
           0.02836463142264971,
           0.03658354077063157,
           0.03530975860528808,
           0.06717273178381432,
           0.16691649502368724,
           0.15803273712511487,
           0.07929885937830314,
           0.0355914134420462,
           0.09323046804757011,
           0.052902898238400914,
           0.08443096811590944,
           0.010286154280945453
          ],
          [
           0.21663623424068937,
           0.24297211624458953,
           0.03269792543488723,
           0.4616636516265452,
           0.08190369893243736,
           0.10678310846131242,
           0.08282189624129653,
           0.06092583388417849,
           -0.0018141113993859653,
           0.04421743580283581,
           0.035546738549150796,
           0.06637224779780204,
           0.047059873361488445,
           0.08887192411757677,
           0.06664593501087338,
           0.07493940148467862,
           0.022171998538391087,
           1,
           0.1375738663597183,
           0.1172500807828292,
           0.08203277645051699,
           0.08777756153819315,
           0.05811926138785691,
           0.027909145790642558,
           0.025288935049359824,
           0.06603192452293062,
           0.13543018720873978,
           0.16856424706208228,
           0.10600274791108687,
           0.05774508206149353,
           0.03467314676048972,
           0.10354477115657322,
           0.03277119603606077,
           0.09616479446719778,
           0.19173197756507834
          ],
          [
           0.14682779761761006,
           0.020959677240976898,
           -0.013244366641278019,
           0.19700997505339662,
           0.10898906968871275,
           0.09719560585768142,
           0.09497060849580839,
           0.06540746311856739,
           0.05444000318341297,
           0.07883612108550579,
           0.039603412489746956,
           0.14754413015172824,
           0.029446866712309186,
           0.06233213892063265,
           0.041568874244380605,
           0.12034036071507695,
           0.07851817659835975,
           0.1375738663597183,
           1,
           0.12459189231881065,
           0.24703668024832456,
           0.10112915898979989,
           0.06095128123932135,
           0.39599814170237563,
           0.2570514494396113,
           0.4139983199671218,
           0.8124282884583846,
           0.2326657307208228,
           0.17177341798466056,
           0.11872242082317289,
           0.07579068717656898,
           0.09307347954307073,
           0.0772717602368628,
           0.15743411243449065,
           0.03039761101996557
          ],
          [
           0.12197309511441243,
           0.02502596193756708,
           -0.003938662840951815,
           0.15445708150888743,
           0.23403867149810442,
           0.12167544683977595,
           0.17995551531710544,
           0.14736936784018545,
           0.01979161138560085,
           0.023042778179107177,
           0.013992957686439652,
           0.025883905190298588,
           0.021177383569865336,
           0.026918163855111796,
           0.20355344745195994,
           0.1418639649356733,
           0.1347213489480467,
           0.1172500807828292,
           0.12459189231881065,
           1,
           0.12502610119910976,
           0.11965538404211935,
           0.0391634038788518,
           0.03168324379720981,
           0.04450466938550922,
           0.04352532554645777,
           0.13351889533888645,
           0.25616496599206484,
           0.39711243829530013,
           0.09373687610723165,
           0.038896378331648634,
           0.033659605250578414,
           0.07072394161972093,
           0.05934120617212517,
           0.03874770229463615
          ],
          [
           0.12884430351737805,
           0.062304426234457325,
           -0.015678981822730417,
           0.14874195092551873,
           0.03934784117436894,
           0.03165995619831658,
           0.09318585511136183,
           0.042989604563313986,
           0.005807571486733148,
           0.031542065867370996,
           0.01451878401451819,
           0.21647862655712113,
           0.014446214238512218,
           0.035964653972639496,
           0.035613680906984226,
           0.08817763867379401,
           0.11984136738779382,
           0.08203277645051699,
           0.24703668024832456,
           0.12502610119910976,
           1,
           0.09084804773812952,
           0.024285169144519798,
           0.06303577699994023,
           0.0896747427945519,
           0.0807422808427735,
           0.2492927008811673,
           0.21741129640993012,
           0.16231464113222976,
           0.11288512740283557,
           0.07165049720271298,
           0.11763805756093122,
           0.05412084537999079,
           0.09933363532410404,
           0.07482645643434743
          ],
          [
           0.08010773522033778,
           0.009754170367358605,
           -0.0016646703101049827,
           0.06939570430558804,
           0.020413507135198856,
           0.047345387188143094,
           0.05647208563477213,
           0.03335119318223902,
           0.012793547326889384,
           0.06182404777001819,
           0.00021951812689627626,
           0.02356749548332385,
           0.019134720632675937,
           0.021018569669199086,
           0.022737929563980287,
           0.016744634963313843,
           0.013750953884748486,
           0.08777756153819315,
           0.10112915898979989,
           0.11965538404211935,
           0.09084804773812952,
           1,
           0.04094517209957207,
           0.02936515808210236,
           0.034258484091749655,
           0.036812266923001026,
           0.10760486059069703,
           0.1322965007558955,
           0.05611604484443895,
           0.12668338378936292,
           0.0871723932156112,
           0.01562667612365682,
           0.08298705303598004,
           0.05809307483623971,
           0.048843968533004045
          ],
          [
           0.043477383947055116,
           0.01917109799424554,
           -0.005290735360401962,
           0.08565311033524503,
           0.053176136205791424,
           0.07655121717311536,
           0.09168253337045001,
           0.0670364770603218,
           0.035161492212529635,
           0.033758294310491974,
           0.026772946799410387,
           0.04654174010083327,
           0.029982669563514985,
           0.023941209741129288,
           0.03791012128939775,
           0.02367610573775451,
           0.02287552329741144,
           0.05811926138785691,
           0.06095128123932135,
           0.0391634038788518,
           0.024285169144519798,
           0.04094517209957207,
           1,
           0.03932617326706648,
           0.031057158562230205,
           0.02327390068717761,
           0.050290805400689774,
           0.07291637481684306,
           0.03191252257254643,
           0.01872677654053915,
           0.06323875256305111,
           0.038806232518467355,
           0.09692088686085285,
           0.03876936557174096,
           0.016176384887945736
          ],
          [
           0.05814353500683404,
           0.016059410909012924,
           -0.0015606924826697401,
           0.10812943491695563,
           0.16427332479075132,
           0.09940384009708422,
           0.0746333071827171,
           0.041352848976374,
           0.030362983893748113,
           0.03599406564793263,
           0.0014297419361857097,
           0.027127935700600722,
           0.046685824256689684,
           0.028132737169688064,
           0.020057928960693843,
           0.023609068655490256,
           0.02836463142264971,
           0.027909145790642558,
           0.39599814170237563,
           0.03168324379720981,
           0.06303577699994023,
           0.02936515808210236,
           0.03932617326706648,
           1,
           0.042083937808229714,
           0.1355911921810238,
           0.045925507404917694,
           0.0657038748748979,
           0.023619366992796233,
           0.010718518204218366,
           0.03554994042638296,
           0.044753701861906636,
           0.05833018601139539,
           0.03648844701010547,
           0.020403974836998864
          ],
          [
           0.03774229819562744,
           0.03212820341713457,
           -0.004592836401785041,
           0.0643288116692,
           0.03634399743980144,
           0.04391380476106985,
           0.022976170924083918,
           0.04607186962730603,
           0.022321643802063675,
           0.04693790091867079,
           0.04225443266540362,
           0.04848616507474272,
           0.014355576571242323,
           0.027179884787414715,
           0.024661514876915196,
           0.043944315602046924,
           0.03658354077063157,
           0.025288935049359824,
           0.2570514494396113,
           0.04450466938550922,
           0.0896747427945519,
           0.034258484091749655,
           0.031057158562230205,
           0.042083937808229714,
           1,
           0.02919452763325515,
           0.04880991328229483,
           0.07999824303961267,
           0.04335190589515383,
           0.03254801874957823,
           0.04218292766564558,
           0.05371411435598941,
           0.05845188689289745,
           0.027008141584489845,
           0.035217996629148984
          ],
          [
           0.06078646153814387,
           0.022457203458181547,
           -0.0021167513396726785,
           0.11587114243619842,
           0.060462282944775396,
           0.08008603671528551,
           0.04401522021219673,
           0.033020511094266645,
           0.03133641314266426,
           0.0595369252763124,
           0.03853399386913504,
           0.15645630378820555,
           0.03494328428480609,
           0.03493961487356548,
           0.0315499276500179,
           0.12519173579974952,
           0.03530975860528808,
           0.06603192452293062,
           0.4139983199671218,
           0.04352532554645777,
           0.0807422808427735,
           0.036812266923001026,
           0.02327390068717761,
           0.1355911921810238,
           0.02919452763325515,
           1,
           0.08512509178319481,
           0.0697899491626444,
           0.03915276325759395,
           0.03891936222930915,
           0.0536326076297027,
           0.04108844965030109,
           0.03442828595465983,
           0.043855076509741575,
           0.02126500229246824
          ],
          [
           0.11928705631655193,
           -0.003391739319689346,
           -0.014515966454211247,
           0.13065725991141586,
           0.034320520510784554,
           0.043493571957122903,
           0.061348189576901385,
           0.03248592180398078,
           0.033424527669524494,
           0.05568925824758073,
           0.025297273060790174,
           0.09696519001719663,
           0.004666111394970924,
           0.05249318690343431,
           0.029549676374972796,
           0.08015284434665558,
           0.06717273178381432,
           0.13543018720873978,
           0.8124282884583846,
           0.13351889533888645,
           0.2492927008811673,
           0.10760486059069703,
           0.050290805400689774,
           0.045925507404917694,
           0.04880991328229483,
           0.08512509178319481,
           1,
           0.21231943635660322,
           0.1815429213620742,
           0.12365356253784265,
           0.05330658834843484,
           0.06613669363075048,
           0.02985391442759764,
           0.16381720579899156,
           0.002158174516412561
          ],
          [
           0.34613566793623335,
           -0.016616814513009545,
           -0.014109546811714304,
           0.20631413876373603,
           0.09541577462839054,
           0.04529508776497811,
           0.1430529326127859,
           0.07953973604346,
           -0.016319347980468277,
           -0.0009588504540070751,
           -0.016652317755353353,
           0.09024220355141066,
           0.011373881144911651,
           0.06855479162892407,
           0.12257506915990694,
           0.10473116494698599,
           0.16691649502368724,
           0.16856424706208228,
           0.2326657307208228,
           0.25616496599206484,
           0.21741129640993012,
           0.1322965007558955,
           0.07291637481684306,
           0.0657038748748979,
           0.07999824303961267,
           0.0697899491626444,
           0.21231943635660322,
           1,
           0.48136936422845783,
           0.515646532912585,
           0.16767873175280432,
           0.5170429596856483,
           0.23099000337950668,
           0.3785222790050858,
           0.0771214947530094
          ],
          [
           0.16661910641115465,
           -0.006439773255529306,
           -0.0015977268214050237,
           0.1662052581697031,
           0.18516829992798622,
           0.09127788723771438,
           0.1433278605705552,
           0.10668728792607303,
           -0.000939178793252308,
           0.020793139480908922,
           0.012358963367614183,
           0.06731349001220623,
           0.009538803985505743,
           0.04536745434862661,
           0.17210342500336306,
           0.1473950045026317,
           0.15803273712511487,
           0.10600274791108687,
           0.17177341798466056,
           0.39711243829530013,
           0.16231464113222976,
           0.05611604484443895,
           0.03191252257254643,
           0.023619366992796233,
           0.04335190589515383,
           0.03915276325759395,
           0.1815429213620742,
           0.48136936422845783,
           1,
           0.20543781250544108,
           0.041279891565919255,
           0.00273670526400365,
           0.0445375644795897,
           0.10222725522059639,
           0.0016937376648737334
          ],
          [
           0.17848365708854813,
           -0.0467662493265244,
           -0.013875404057944374,
           0.05842275513343045,
           0.006502050375013135,
           -0.00014373045114677695,
           0.038489804610326916,
           0.0027591052054625003,
           -0.03222312368035669,
           -0.004800862701392701,
           -0.0018167450632923534,
           0.054068651514124495,
           -0.003207655559233354,
           0.023020419122970825,
           0.030994648994588425,
           0.03718278041564521,
           0.07929885937830314,
           0.05774508206149353,
           0.11872242082317289,
           0.09373687610723165,
           0.11288512740283557,
           0.12668338378936292,
           0.01872677654053915,
           0.010718518204218366,
           0.03254801874957823,
           0.03891936222930915,
           0.12365356253784265,
           0.515646532912585,
           0.20543781250544108,
           1,
           0.027400151587214726,
           -0.019123818591857224,
           0.08045428145188627,
           0.15533869435193023,
           0.06971589341709085
          ],
          [
           0.05803958981389067,
           -0.009318788119763654,
           -0.0015383814621188242,
           0.05293819266906603,
           0.026557317412941216,
           0.03353128894694514,
           0.05225861340883468,
           0.058180710833747,
           0.042942517411605985,
           0.013448843553552099,
           0.0074413613897224146,
           0.016859403169464687,
           0.007832448597878747,
           0.0035890005580381983,
           0.009667640941965825,
           0.03195576758990444,
           0.0355914134420462,
           0.03467314676048972,
           0.07579068717656898,
           0.038896378331648634,
           0.07165049720271298,
           0.0871723932156112,
           0.06323875256305111,
           0.03554994042638296,
           0.04218292766564558,
           0.0536326076297027,
           0.05330658834843484,
           0.16767873175280432,
           0.041279891565919255,
           0.027400151587214726,
           1,
           0.017016738077959143,
           0.04009221759823681,
           0.06981086510882992,
           0.0037610060827664073
          ],
          [
           0.1789670102023438,
           0.005924993670630824,
           -0.011994687068151008,
           0.07881949047218684,
           0.015225093929707155,
           0.003697297809516612,
           0.06531689310929344,
           0.01930343247370961,
           -0.019941945062802287,
           -0.018607387724644493,
           -0.05732969999783274,
           0.020664266483001015,
           -0.0033989381064806054,
           0.062016591063065854,
           0.05299780078193432,
           0.01711581182718562,
           0.09323046804757011,
           0.10354477115657322,
           0.09307347954307073,
           0.033659605250578414,
           0.11763805756093122,
           0.01562667612365682,
           0.038806232518467355,
           0.044753701861906636,
           0.05371411435598941,
           0.04108844965030109,
           0.06613669363075048,
           0.5170429596856483,
           0.00273670526400365,
           -0.019123818591857224,
           0.017016738077959143,
           1,
           0.03723753228462764,
           0.015986690946242613,
           0.02731261913245262
          ],
          [
           0.07995387910624807,
           -0.002237030354008241,
           -0.009729536991094113,
           0.08046566280112816,
           0.030634802435202387,
           0.04010075550578929,
           0.0649393044006957,
           0.037568057052475325,
           0.011395864262442709,
           0.0066055273528929275,
           0.0021365395981264917,
           0.07157079964729572,
           0.04121740571130591,
           0.004880046076875139,
           0.027952342145954958,
           0.03196915536369375,
           0.052902898238400914,
           0.03277119603606077,
           0.0772717602368628,
           0.07072394161972093,
           0.05412084537999079,
           0.08298705303598004,
           0.09692088686085285,
           0.05833018601139539,
           0.05845188689289745,
           0.03442828595465983,
           0.02985391442759764,
           0.23099000337950668,
           0.0445375644795897,
           0.08045428145188627,
           0.04009221759823681,
           0.03723753228462764,
           1,
           0.07413250040050003,
           0.0031991571873727746
          ],
          [
           0.13102006187207746,
           -0.016166082270786874,
           -0.0057204560721026265,
           0.12495914080131014,
           0.03848171091617709,
           0.031840298953009764,
           0.04460903229575884,
           0.013009585742566696,
           0.006277478385994377,
           0.04804607554648733,
           0.044848302179762746,
           0.052888498731219306,
           0.0022046757901381157,
           0.0320102963963016,
           0.031061001464965758,
           0.045478728579530295,
           0.08443096811590944,
           0.09616479446719778,
           0.15743411243449065,
           0.05934120617212517,
           0.09933363532410404,
           0.05809307483623971,
           0.03876936557174096,
           0.03648844701010547,
           0.027008141584489845,
           0.043855076509741575,
           0.16381720579899156,
           0.3785222790050858,
           0.10222725522059639,
           0.15533869435193023,
           0.06981086510882992,
           0.015986690946242613,
           0.07413250040050003,
           1,
           0.0024721119416337236
          ],
          [
           0.2729289343859121,
           0.6473742181141177,
           0.0187544281453344,
           0.37316468213865644,
           0.09849659522916358,
           0.06202666667003934,
           0.05651320689718433,
           0.04813396022041189,
           -0.03889136389768748,
           0.1926185861917203,
           0.29702204561713835,
           0.23367914985934332,
           0.06662548258317133,
           0.016251300564271248,
           0.008108315027618558,
           0.005052284564954886,
           0.010286154280945453,
           0.19173197756507834,
           0.03039761101996557,
           0.03874770229463615,
           0.07482645643434743,
           0.048843968533004045,
           0.016176384887945736,
           0.020403974836998864,
           0.035217996629148984,
           0.02126500229246824,
           0.002158174516412561,
           0.0771214947530094,
           0.0016937376648737334,
           0.06971589341709085,
           0.0037610060827664073,
           0.02731261913245262,
           0.0031991571873727746,
           0.0024721119416337236,
           1
          ]
         ]
        }
       ],
       "layout": {
        "coloraxis": {
         "colorscale": [
          [
           0,
           "rgb(63,0,125)"
          ],
          [
           0.125,
           "rgb(84,39,143)"
          ],
          [
           0.25,
           "rgb(106,81,163)"
          ],
          [
           0.375,
           "rgb(128,125,186)"
          ],
          [
           0.5,
           "rgb(158,154,200)"
          ],
          [
           0.625,
           "rgb(188,189,220)"
          ],
          [
           0.75,
           "rgb(218,218,235)"
          ],
          [
           0.875,
           "rgb(239,237,245)"
          ],
          [
           1,
           "rgb(252,251,253)"
          ]
         ]
        },
        "margin": {
         "t": 60
        },
        "template": {
         "data": {
          "bar": [
           {
            "error_x": {
             "color": "#2a3f5f"
            },
            "error_y": {
             "color": "#2a3f5f"
            },
            "marker": {
             "line": {
              "color": "#E5ECF6",
              "width": 0.5
             },
             "pattern": {
              "fillmode": "overlay",
              "size": 10,
              "solidity": 0.2
             }
            },
            "type": "bar"
           }
          ],
          "barpolar": [
           {
            "marker": {
             "line": {
              "color": "#E5ECF6",
              "width": 0.5
             },
             "pattern": {
              "fillmode": "overlay",
              "size": 10,
              "solidity": 0.2
             }
            },
            "type": "barpolar"
           }
          ],
          "carpet": [
           {
            "aaxis": {
             "endlinecolor": "#2a3f5f",
             "gridcolor": "white",
             "linecolor": "white",
             "minorgridcolor": "white",
             "startlinecolor": "#2a3f5f"
            },
            "baxis": {
             "endlinecolor": "#2a3f5f",
             "gridcolor": "white",
             "linecolor": "white",
             "minorgridcolor": "white",
             "startlinecolor": "#2a3f5f"
            },
            "type": "carpet"
           }
          ],
          "choropleth": [
           {
            "colorbar": {
             "outlinewidth": 0,
             "ticks": ""
            },
            "type": "choropleth"
           }
          ],
          "contour": [
           {
            "colorbar": {
             "outlinewidth": 0,
             "ticks": ""
            },
            "colorscale": [
             [
              0,
              "#0d0887"
             ],
             [
              0.1111111111111111,
              "#46039f"
             ],
             [
              0.2222222222222222,
              "#7201a8"
             ],
             [
              0.3333333333333333,
              "#9c179e"
             ],
             [
              0.4444444444444444,
              "#bd3786"
             ],
             [
              0.5555555555555556,
              "#d8576b"
             ],
             [
              0.6666666666666666,
              "#ed7953"
             ],
             [
              0.7777777777777778,
              "#fb9f3a"
             ],
             [
              0.8888888888888888,
              "#fdca26"
             ],
             [
              1,
              "#f0f921"
             ]
            ],
            "type": "contour"
           }
          ],
          "contourcarpet": [
           {
            "colorbar": {
             "outlinewidth": 0,
             "ticks": ""
            },
            "type": "contourcarpet"
           }
          ],
          "heatmap": [
           {
            "colorbar": {
             "outlinewidth": 0,
             "ticks": ""
            },
            "colorscale": [
             [
              0,
              "#0d0887"
             ],
             [
              0.1111111111111111,
              "#46039f"
             ],
             [
              0.2222222222222222,
              "#7201a8"
             ],
             [
              0.3333333333333333,
              "#9c179e"
             ],
             [
              0.4444444444444444,
              "#bd3786"
             ],
             [
              0.5555555555555556,
              "#d8576b"
             ],
             [
              0.6666666666666666,
              "#ed7953"
             ],
             [
              0.7777777777777778,
              "#fb9f3a"
             ],
             [
              0.8888888888888888,
              "#fdca26"
             ],
             [
              1,
              "#f0f921"
             ]
            ],
            "type": "heatmap"
           }
          ],
          "heatmapgl": [
           {
            "colorbar": {
             "outlinewidth": 0,
             "ticks": ""
            },
            "colorscale": [
             [
              0,
              "#0d0887"
             ],
             [
              0.1111111111111111,
              "#46039f"
             ],
             [
              0.2222222222222222,
              "#7201a8"
             ],
             [
              0.3333333333333333,
              "#9c179e"
             ],
             [
              0.4444444444444444,
              "#bd3786"
             ],
             [
              0.5555555555555556,
              "#d8576b"
             ],
             [
              0.6666666666666666,
              "#ed7953"
             ],
             [
              0.7777777777777778,
              "#fb9f3a"
             ],
             [
              0.8888888888888888,
              "#fdca26"
             ],
             [
              1,
              "#f0f921"
             ]
            ],
            "type": "heatmapgl"
           }
          ],
          "histogram": [
           {
            "marker": {
             "pattern": {
              "fillmode": "overlay",
              "size": 10,
              "solidity": 0.2
             }
            },
            "type": "histogram"
           }
          ],
          "histogram2d": [
           {
            "colorbar": {
             "outlinewidth": 0,
             "ticks": ""
            },
            "colorscale": [
             [
              0,
              "#0d0887"
             ],
             [
              0.1111111111111111,
              "#46039f"
             ],
             [
              0.2222222222222222,
              "#7201a8"
             ],
             [
              0.3333333333333333,
              "#9c179e"
             ],
             [
              0.4444444444444444,
              "#bd3786"
             ],
             [
              0.5555555555555556,
              "#d8576b"
             ],
             [
              0.6666666666666666,
              "#ed7953"
             ],
             [
              0.7777777777777778,
              "#fb9f3a"
             ],
             [
              0.8888888888888888,
              "#fdca26"
             ],
             [
              1,
              "#f0f921"
             ]
            ],
            "type": "histogram2d"
           }
          ],
          "histogram2dcontour": [
           {
            "colorbar": {
             "outlinewidth": 0,
             "ticks": ""
            },
            "colorscale": [
             [
              0,
              "#0d0887"
             ],
             [
              0.1111111111111111,
              "#46039f"
             ],
             [
              0.2222222222222222,
              "#7201a8"
             ],
             [
              0.3333333333333333,
              "#9c179e"
             ],
             [
              0.4444444444444444,
              "#bd3786"
             ],
             [
              0.5555555555555556,
              "#d8576b"
             ],
             [
              0.6666666666666666,
              "#ed7953"
             ],
             [
              0.7777777777777778,
              "#fb9f3a"
             ],
             [
              0.8888888888888888,
              "#fdca26"
             ],
             [
              1,
              "#f0f921"
             ]
            ],
            "type": "histogram2dcontour"
           }
          ],
          "mesh3d": [
           {
            "colorbar": {
             "outlinewidth": 0,
             "ticks": ""
            },
            "type": "mesh3d"
           }
          ],
          "parcoords": [
           {
            "line": {
             "colorbar": {
              "outlinewidth": 0,
              "ticks": ""
             }
            },
            "type": "parcoords"
           }
          ],
          "pie": [
           {
            "automargin": true,
            "type": "pie"
           }
          ],
          "scatter": [
           {
            "fillpattern": {
             "fillmode": "overlay",
             "size": 10,
             "solidity": 0.2
            },
            "type": "scatter"
           }
          ],
          "scatter3d": [
           {
            "line": {
             "colorbar": {
              "outlinewidth": 0,
              "ticks": ""
             }
            },
            "marker": {
             "colorbar": {
              "outlinewidth": 0,
              "ticks": ""
             }
            },
            "type": "scatter3d"
           }
          ],
          "scattercarpet": [
           {
            "marker": {
             "colorbar": {
              "outlinewidth": 0,
              "ticks": ""
             }
            },
            "type": "scattercarpet"
           }
          ],
          "scattergeo": [
           {
            "marker": {
             "colorbar": {
              "outlinewidth": 0,
              "ticks": ""
             }
            },
            "type": "scattergeo"
           }
          ],
          "scattergl": [
           {
            "marker": {
             "colorbar": {
              "outlinewidth": 0,
              "ticks": ""
             }
            },
            "type": "scattergl"
           }
          ],
          "scattermapbox": [
           {
            "marker": {
             "colorbar": {
              "outlinewidth": 0,
              "ticks": ""
             }
            },
            "type": "scattermapbox"
           }
          ],
          "scatterpolar": [
           {
            "marker": {
             "colorbar": {
              "outlinewidth": 0,
              "ticks": ""
             }
            },
            "type": "scatterpolar"
           }
          ],
          "scatterpolargl": [
           {
            "marker": {
             "colorbar": {
              "outlinewidth": 0,
              "ticks": ""
             }
            },
            "type": "scatterpolargl"
           }
          ],
          "scatterternary": [
           {
            "marker": {
             "colorbar": {
              "outlinewidth": 0,
              "ticks": ""
             }
            },
            "type": "scatterternary"
           }
          ],
          "surface": [
           {
            "colorbar": {
             "outlinewidth": 0,
             "ticks": ""
            },
            "colorscale": [
             [
              0,
              "#0d0887"
             ],
             [
              0.1111111111111111,
              "#46039f"
             ],
             [
              0.2222222222222222,
              "#7201a8"
             ],
             [
              0.3333333333333333,
              "#9c179e"
             ],
             [
              0.4444444444444444,
              "#bd3786"
             ],
             [
              0.5555555555555556,
              "#d8576b"
             ],
             [
              0.6666666666666666,
              "#ed7953"
             ],
             [
              0.7777777777777778,
              "#fb9f3a"
             ],
             [
              0.8888888888888888,
              "#fdca26"
             ],
             [
              1,
              "#f0f921"
             ]
            ],
            "type": "surface"
           }
          ],
          "table": [
           {
            "cells": {
             "fill": {
              "color": "#EBF0F8"
             },
             "line": {
              "color": "white"
             }
            },
            "header": {
             "fill": {
              "color": "#C8D4E3"
             },
             "line": {
              "color": "white"
             }
            },
            "type": "table"
           }
          ]
         },
         "layout": {
          "annotationdefaults": {
           "arrowcolor": "#2a3f5f",
           "arrowhead": 0,
           "arrowwidth": 1
          },
          "autotypenumbers": "strict",
          "coloraxis": {
           "colorbar": {
            "outlinewidth": 0,
            "ticks": ""
           }
          },
          "colorscale": {
           "diverging": [
            [
             0,
             "#8e0152"
            ],
            [
             0.1,
             "#c51b7d"
            ],
            [
             0.2,
             "#de77ae"
            ],
            [
             0.3,
             "#f1b6da"
            ],
            [
             0.4,
             "#fde0ef"
            ],
            [
             0.5,
             "#f7f7f7"
            ],
            [
             0.6,
             "#e6f5d0"
            ],
            [
             0.7,
             "#b8e186"
            ],
            [
             0.8,
             "#7fbc41"
            ],
            [
             0.9,
             "#4d9221"
            ],
            [
             1,
             "#276419"
            ]
           ],
           "sequential": [
            [
             0,
             "#0d0887"
            ],
            [
             0.1111111111111111,
             "#46039f"
            ],
            [
             0.2222222222222222,
             "#7201a8"
            ],
            [
             0.3333333333333333,
             "#9c179e"
            ],
            [
             0.4444444444444444,
             "#bd3786"
            ],
            [
             0.5555555555555556,
             "#d8576b"
            ],
            [
             0.6666666666666666,
             "#ed7953"
            ],
            [
             0.7777777777777778,
             "#fb9f3a"
            ],
            [
             0.8888888888888888,
             "#fdca26"
            ],
            [
             1,
             "#f0f921"
            ]
           ],
           "sequentialminus": [
            [
             0,
             "#0d0887"
            ],
            [
             0.1111111111111111,
             "#46039f"
            ],
            [
             0.2222222222222222,
             "#7201a8"
            ],
            [
             0.3333333333333333,
             "#9c179e"
            ],
            [
             0.4444444444444444,
             "#bd3786"
            ],
            [
             0.5555555555555556,
             "#d8576b"
            ],
            [
             0.6666666666666666,
             "#ed7953"
            ],
            [
             0.7777777777777778,
             "#fb9f3a"
            ],
            [
             0.8888888888888888,
             "#fdca26"
            ],
            [
             1,
             "#f0f921"
            ]
           ]
          },
          "colorway": [
           "#636efa",
           "#EF553B",
           "#00cc96",
           "#ab63fa",
           "#FFA15A",
           "#19d3f3",
           "#FF6692",
           "#B6E880",
           "#FF97FF",
           "#FECB52"
          ],
          "font": {
           "color": "#2a3f5f"
          },
          "geo": {
           "bgcolor": "white",
           "lakecolor": "white",
           "landcolor": "#E5ECF6",
           "showlakes": true,
           "showland": true,
           "subunitcolor": "white"
          },
          "hoverlabel": {
           "align": "left"
          },
          "hovermode": "closest",
          "mapbox": {
           "style": "light"
          },
          "paper_bgcolor": "white",
          "plot_bgcolor": "#E5ECF6",
          "polar": {
           "angularaxis": {
            "gridcolor": "white",
            "linecolor": "white",
            "ticks": ""
           },
           "bgcolor": "#E5ECF6",
           "radialaxis": {
            "gridcolor": "white",
            "linecolor": "white",
            "ticks": ""
           }
          },
          "scene": {
           "xaxis": {
            "backgroundcolor": "#E5ECF6",
            "gridcolor": "white",
            "gridwidth": 2,
            "linecolor": "white",
            "showbackground": true,
            "ticks": "",
            "zerolinecolor": "white"
           },
           "yaxis": {
            "backgroundcolor": "#E5ECF6",
            "gridcolor": "white",
            "gridwidth": 2,
            "linecolor": "white",
            "showbackground": true,
            "ticks": "",
            "zerolinecolor": "white"
           },
           "zaxis": {
            "backgroundcolor": "#E5ECF6",
            "gridcolor": "white",
            "gridwidth": 2,
            "linecolor": "white",
            "showbackground": true,
            "ticks": "",
            "zerolinecolor": "white"
           }
          },
          "shapedefaults": {
           "line": {
            "color": "#2a3f5f"
           }
          },
          "ternary": {
           "aaxis": {
            "gridcolor": "white",
            "linecolor": "white",
            "ticks": ""
           },
           "baxis": {
            "gridcolor": "white",
            "linecolor": "white",
            "ticks": ""
           },
           "bgcolor": "#E5ECF6",
           "caxis": {
            "gridcolor": "white",
            "linecolor": "white",
            "ticks": ""
           }
          },
          "title": {
           "x": 0.05
          },
          "xaxis": {
           "automargin": true,
           "gridcolor": "white",
           "linecolor": "white",
           "ticks": "",
           "title": {
            "standoff": 15
           },
           "zerolinecolor": "white",
           "zerolinewidth": 2
          },
          "yaxis": {
           "automargin": true,
           "gridcolor": "white",
           "linecolor": "white",
           "ticks": "",
           "title": {
            "standoff": 15
           },
           "zerolinecolor": "white",
           "zerolinewidth": 2
          }
         }
        },
        "xaxis": {
         "anchor": "y",
         "constrain": "domain",
         "domain": [
          0,
          1
         ],
         "scaleanchor": "y"
        },
        "yaxis": {
         "anchor": "x",
         "autorange": "reversed",
         "constrain": "domain",
         "domain": [
          0,
          1
         ]
        }
       }
      },
      "text/html": [
       "<div>                            <div id=\"a9d7ff13-3424-4908-9d61-9bbedad53594\" class=\"plotly-graph-div\" style=\"height:525px; width:100%;\"></div>            <script type=\"text/javascript\">                require([\"plotly\"], function(Plotly) {                    window.PLOTLYENV=window.PLOTLYENV || {};                                    if (document.getElementById(\"a9d7ff13-3424-4908-9d61-9bbedad53594\")) {                    Plotly.newPlot(                        \"a9d7ff13-3424-4908-9d61-9bbedad53594\",                        [{\"coloraxis\":\"coloraxis\",\"name\":\"0\",\"z\":[[1.0,0.25266129245411295,0.037425013004486814,0.4692512253829285,0.16360823825819265,0.12782232665069543,0.09380572760465733,0.07528529904838431,0.10251313987927552,0.14530140596051874,0.19724957857750824,0.1732343186619051,0.06972157449940442,0.08547737806597262,0.05968193587461329,0.103434112848151,0.12159997559331105,0.21663623424068937,0.14682779761761006,0.12197309511441243,0.12884430351737805,0.08010773522033778,0.043477383947055116,0.05814353500683404,0.03774229819562744,0.06078646153814387,0.11928705631655193,0.34613566793623335,0.16661910641115465,0.17848365708854813,0.05803958981389067,0.1789670102023438,0.07995387910624807,0.13102006187207746,0.2729289343859121],[0.25266129245411295,1.0,-0.030746192913111488,0.4467427401646558,0.12786525071572663,0.10576140294250283,0.07093512568878989,0.05656187232445988,-0.04490865460450795,0.23865526784145932,0.35044130182572236,0.2798891807346426,0.08177151487083911,0.06234658442730238,0.02754450076714853,0.023499985900201126,0.008158455782983893,0.24297211624458953,0.020959677240976898,0.02502596193756708,0.062304426234457325,0.009754170367358605,0.01917109799424554,0.016059410909012924,0.03212820341713457,0.022457203458181547,-0.003391739319689346,-0.016616814513009545,-0.006439773255529306,-0.0467662493265244,-0.009318788119763654,0.005924993670630824,-0.002237030354008241,-0.016166082270786874,0.6473742181141177],[0.037425013004486814,-0.030746192913111488,1.0,0.06699683263500655,0.005377780914764603,0.03932015179963459,-0.0009818170392660187,-0.009161420435936922,0.0003235471633294191,0.005644616085582912,0.06294088646110028,0.00504236393425489,0.05620778147024203,0.054174826363499365,-0.007262657037815907,-0.00941385302006389,-0.014797424138475823,0.03269792543488723,-0.013244366641278019,-0.003938662840951815,-0.015678981822730417,-0.0016646703101049827,-0.005290735360401962,-0.0015606924826697401,-0.004592836401785041,-0.0021167513396726785,-0.014515966454211247,-0.014109546811714304,-0.0015977268214050237,-0.013875404057944374,-0.0015383814621188242,-0.011994687068151008,-0.009729536991094113,-0.0057204560721026265,0.0187544281453344],[0.4692512253829285,0.4467427401646558,0.06699683263500655,1.0,0.34865809487144617,0.27239636198369643,0.19990513083499079,0.16043708567178214,0.21846110214331962,0.3096452350060155,0.4203496291704753,0.369171798156689,0.14858048466978366,0.18215696292796765,0.12718546621987642,0.22042374585958233,0.25913619190675374,0.4616636516265452,0.19700997505339662,0.15445708150888743,0.14874195092551873,0.06939570430558804,0.08565311033524503,0.10812943491695563,0.0643288116692,0.11587114243619842,0.13065725991141586,0.20631413876373603,0.1662052581697031,0.05842275513343045,0.05293819266906603,0.07881949047218684,0.08046566280112816,0.12495914080131014,0.37316468213865644],[0.16360823825819265,0.12786525071572663,0.005377780914764603,0.34865809487144617,1.0,0.3407888609451198,0.10332925494915886,0.060840532414206616,0.005656275667177848,0.13633834224817912,0.08830990307919387,0.08143678116275602,0.03954424677192922,0.021286950329199517,0.08534802966910073,0.08085043203350971,0.1200383166921492,0.08190369893243736,0.10898906968871275,0.23403867149810442,0.03934784117436894,0.020413507135198856,0.053176136205791424,0.16427332479075132,0.03634399743980144,0.060462282944775396,0.034320520510784554,0.09541577462839054,0.18516829992798622,0.006502050375013135,0.026557317412941216,0.015225093929707155,0.030634802435202387,0.03848171091617709,0.09849659522916358],[0.12782232665069543,0.10576140294250283,0.03932015179963459,0.27239636198369643,0.3407888609451198,1.0,0.08057137882560149,0.059578034933104616,-0.005286904699397312,0.24820142359631767,0.19100611319345423,0.164234418753207,0.17810241150660347,0.04375983646508413,0.10059960496480581,0.08167407918430289,0.05937979879517846,0.10678310846131242,0.09719560585768142,0.12167544683977595,0.03165995619831658,0.047345387188143094,0.07655121717311536,0.09940384009708422,0.04391380476106985,0.08008603671528551,0.043493571957122903,0.04529508776497811,0.09127788723771438,-0.00014373045114677695,0.03353128894694514,0.003697297809516612,0.04010075550578929,0.031840298953009764,0.06202666667003934],[0.09380572760465733,0.07093512568878989,-0.0009818170392660187,0.19990513083499079,0.10332925494915886,0.08057137882560149,1.0,0.10147974768388136,0.04584996778098945,0.02333823166987157,0.010132489843024733,0.036639708783885505,0.012712644512703134,0.014275058985479218,0.22775754435803303,0.12788592651494327,0.11366995796641827,0.08282189624129653,0.09497060849580839,0.17995551531710544,0.09318585511136183,0.05647208563477213,0.09168253337045001,0.0746333071827171,0.022976170924083918,0.04401522021219673,0.061348189576901385,0.1430529326127859,0.1433278605705552,0.038489804610326916,0.05225861340883468,0.06531689310929344,0.0649393044006957,0.04460903229575884,0.05651320689718433],[0.07528529904838431,0.05656187232445988,-0.009161420435936922,0.16043708567178214,0.060840532414206616,0.059578034933104616,0.10147974768388136,1.0,0.1603437929236674,-0.005003691579773926,0.0019222206849230114,0.02038218976634105,0.048139080989226216,-0.0017802514368847543,0.14794458132334856,0.10740550848562369,0.09835774773138765,0.06092583388417849,0.06540746311856739,0.14736936784018545,0.042989604563313986,0.03335119318223902,0.0670364770603218,0.041352848976374,0.04607186962730603,0.033020511094266645,0.03248592180398078,0.07953973604346,0.10668728792607303,0.0027591052054625003,0.058180710833747,0.01930343247370961,0.037568057052475325,0.013009585742566696,0.04813396022041189],[0.10251313987927552,-0.04490865460450795,0.0003235471633294191,0.21846110214331962,0.005656275667177848,-0.005286904699397312,0.04584996778098945,0.1603437929236674,1.0,-0.017748696765647384,-0.028987036760770985,-0.023757982738352355,-0.004136371810380183,-0.001366233309769137,0.024555400130469675,0.057347235286587514,0.09816716013831212,-0.0018141113993859653,0.05444000318341297,0.01979161138560085,0.005807571486733148,0.012793547326889384,0.035161492212529635,0.030362983893748113,0.022321643802063675,0.03133641314266426,0.033424527669524494,-0.016319347980468277,-0.000939178793252308,-0.03222312368035669,0.042942517411605985,-0.019941945062802287,0.011395864262442709,0.006277478385994377,-0.03889136389768748],[0.14530140596051874,0.23865526784145932,0.005644616085582912,0.3096452350060155,0.13633834224817912,0.24820142359631767,0.02333823166987157,-0.005003691579773926,-0.017748696765647384,1.0,0.35150144264176325,0.2077697631415275,0.1000029974336753,0.02622881989465703,0.004208140550827596,0.03285584248717843,0.006965311174152516,0.04421743580283581,0.07883612108550579,0.023042778179107177,0.031542065867370996,0.06182404777001819,0.033758294310491974,0.03599406564793263,0.04693790091867079,0.0595369252763124,0.05568925824758073,-0.0009588504540070751,0.020793139480908922,-0.004800862701392701,0.013448843553552099,-0.018607387724644493,0.0066055273528929275,0.04804607554648733,0.1926185861917203],[0.19724957857750824,0.35044130182572236,0.06294088646110028,0.4203496291704753,0.08830990307919387,0.19100611319345423,0.010132489843024733,0.0019222206849230114,-0.028987036760770985,0.35150144264176325,1.0,0.22879732162853414,0.19714396069222329,0.053479940047962,-0.01311471030088585,0.024125478474950404,-5.162012881755644e-05,0.035546738549150796,0.039603412489746956,0.013992957686439652,0.01451878401451819,0.00021951812689627626,0.026772946799410387,0.0014297419361857097,0.04225443266540362,0.03853399386913504,0.025297273060790174,-0.016652317755353353,0.012358963367614183,-0.0018167450632923534,0.0074413613897224146,-0.05732969999783274,0.0021365395981264917,0.044848302179762746,0.29702204561713835],[0.1732343186619051,0.2798891807346426,0.00504236393425489,0.369171798156689,0.08143678116275602,0.164234418753207,0.036639708783885505,0.02038218976634105,-0.023757982738352355,0.2077697631415275,0.22879732162853414,1.0,0.16578300875030086,0.037929354088308345,0.004449450949679611,0.18814496349990845,0.019905023243963572,0.06637224779780204,0.14754413015172824,0.025883905190298588,0.21647862655712113,0.02356749548332385,0.04654174010083327,0.027127935700600722,0.04848616507474272,0.15645630378820555,0.09696519001719663,0.09024220355141066,0.06731349001220623,0.054068651514124495,0.016859403169464687,0.020664266483001015,0.07157079964729572,0.052888498731219306,0.23367914985934332],[0.06972157449940442,0.08177151487083911,0.05620778147024203,0.14858048466978366,0.03954424677192922,0.17810241150660347,0.012712644512703134,0.048139080989226216,-0.004136371810380183,0.1000029974336753,0.19714396069222329,0.16578300875030086,1.0,0.05278688204833766,0.00689520144724061,0.016163184585600933,-0.006794039872333149,0.047059873361488445,0.029446866712309186,0.021177383569865336,0.014446214238512218,0.019134720632675937,0.029982669563514985,0.046685824256689684,0.014355576571242323,0.03494328428480609,0.004666111394970924,0.011373881144911651,0.009538803985505743,-0.003207655559233354,0.007832448597878747,-0.0033989381064806054,0.04121740571130591,0.0022046757901381157,0.06662548258317133],[0.08547737806597262,0.06234658442730238,0.054174826363499365,0.18215696292796765,0.021286950329199517,0.04375983646508413,0.014275058985479218,-0.0017802514368847543,-0.001366233309769137,0.02622881989465703,0.053479940047962,0.037929354088308345,0.05278688204833766,1.0,0.002601795816065546,0.016557684766089847,-0.002082985817812247,0.08887192411757677,0.06233213892063265,0.026918163855111796,0.035964653972639496,0.021018569669199086,0.023941209741129288,0.028132737169688064,0.027179884787414715,0.03493961487356548,0.05249318690343431,0.06855479162892407,0.04536745434862661,0.023020419122970825,0.0035890005580381983,0.062016591063065854,0.004880046076875139,0.0320102963963016,0.016251300564271248],[0.05968193587461329,0.02754450076714853,-0.007262657037815907,0.12718546621987642,0.08534802966910073,0.10059960496480581,0.22775754435803303,0.14794458132334856,0.024555400130469675,0.004208140550827596,-0.01311471030088585,0.004449450949679611,0.00689520144724061,0.002601795816065546,1.0,0.13620950698873205,0.19217553347922384,0.06664593501087338,0.041568874244380605,0.20355344745195994,0.035613680906984226,0.022737929563980287,0.03791012128939775,0.020057928960693843,0.024661514876915196,0.0315499276500179,0.029549676374972796,0.12257506915990694,0.17210342500336306,0.030994648994588425,0.009667640941965825,0.05299780078193432,0.027952342145954958,0.031061001464965758,0.008108315027618558],[0.103434112848151,0.023499985900201126,-0.00941385302006389,0.22042374585958233,0.08085043203350971,0.08167407918430289,0.12788592651494327,0.10740550848562369,0.057347235286587514,0.03285584248717843,0.024125478474950404,0.18814496349990845,0.016163184585600933,0.016557684766089847,0.13620950698873205,1.0,0.10072547634416203,0.07493940148467862,0.12034036071507695,0.1418639649356733,0.08817763867379401,0.016744634963313843,0.02367610573775451,0.023609068655490256,0.043944315602046924,0.12519173579974952,0.08015284434665558,0.10473116494698599,0.1473950045026317,0.03718278041564521,0.03195576758990444,0.01711581182718562,0.03196915536369375,0.045478728579530295,0.005052284564954886],[0.12159997559331105,0.008158455782983893,-0.014797424138475823,0.25913619190675374,0.1200383166921492,0.05937979879517846,0.11366995796641827,0.09835774773138765,0.09816716013831212,0.006965311174152516,-5.162012881755644e-05,0.019905023243963572,-0.006794039872333149,-0.002082985817812247,0.19217553347922384,0.10072547634416203,1.0,0.022171998538391087,0.07851817659835975,0.1347213489480467,0.11984136738779382,0.013750953884748486,0.02287552329741144,0.02836463142264971,0.03658354077063157,0.03530975860528808,0.06717273178381432,0.16691649502368724,0.15803273712511487,0.07929885937830314,0.0355914134420462,0.09323046804757011,0.052902898238400914,0.08443096811590944,0.010286154280945453],[0.21663623424068937,0.24297211624458953,0.03269792543488723,0.4616636516265452,0.08190369893243736,0.10678310846131242,0.08282189624129653,0.06092583388417849,-0.0018141113993859653,0.04421743580283581,0.035546738549150796,0.06637224779780204,0.047059873361488445,0.08887192411757677,0.06664593501087338,0.07493940148467862,0.022171998538391087,1.0,0.1375738663597183,0.1172500807828292,0.08203277645051699,0.08777756153819315,0.05811926138785691,0.027909145790642558,0.025288935049359824,0.06603192452293062,0.13543018720873978,0.16856424706208228,0.10600274791108687,0.05774508206149353,0.03467314676048972,0.10354477115657322,0.03277119603606077,0.09616479446719778,0.19173197756507834],[0.14682779761761006,0.020959677240976898,-0.013244366641278019,0.19700997505339662,0.10898906968871275,0.09719560585768142,0.09497060849580839,0.06540746311856739,0.05444000318341297,0.07883612108550579,0.039603412489746956,0.14754413015172824,0.029446866712309186,0.06233213892063265,0.041568874244380605,0.12034036071507695,0.07851817659835975,0.1375738663597183,1.0,0.12459189231881065,0.24703668024832456,0.10112915898979989,0.06095128123932135,0.39599814170237563,0.2570514494396113,0.4139983199671218,0.8124282884583846,0.2326657307208228,0.17177341798466056,0.11872242082317289,0.07579068717656898,0.09307347954307073,0.0772717602368628,0.15743411243449065,0.03039761101996557],[0.12197309511441243,0.02502596193756708,-0.003938662840951815,0.15445708150888743,0.23403867149810442,0.12167544683977595,0.17995551531710544,0.14736936784018545,0.01979161138560085,0.023042778179107177,0.013992957686439652,0.025883905190298588,0.021177383569865336,0.026918163855111796,0.20355344745195994,0.1418639649356733,0.1347213489480467,0.1172500807828292,0.12459189231881065,1.0,0.12502610119910976,0.11965538404211935,0.0391634038788518,0.03168324379720981,0.04450466938550922,0.04352532554645777,0.13351889533888645,0.25616496599206484,0.39711243829530013,0.09373687610723165,0.038896378331648634,0.033659605250578414,0.07072394161972093,0.05934120617212517,0.03874770229463615],[0.12884430351737805,0.062304426234457325,-0.015678981822730417,0.14874195092551873,0.03934784117436894,0.03165995619831658,0.09318585511136183,0.042989604563313986,0.005807571486733148,0.031542065867370996,0.01451878401451819,0.21647862655712113,0.014446214238512218,0.035964653972639496,0.035613680906984226,0.08817763867379401,0.11984136738779382,0.08203277645051699,0.24703668024832456,0.12502610119910976,1.0,0.09084804773812952,0.024285169144519798,0.06303577699994023,0.0896747427945519,0.0807422808427735,0.2492927008811673,0.21741129640993012,0.16231464113222976,0.11288512740283557,0.07165049720271298,0.11763805756093122,0.05412084537999079,0.09933363532410404,0.07482645643434743],[0.08010773522033778,0.009754170367358605,-0.0016646703101049827,0.06939570430558804,0.020413507135198856,0.047345387188143094,0.05647208563477213,0.03335119318223902,0.012793547326889384,0.06182404777001819,0.00021951812689627626,0.02356749548332385,0.019134720632675937,0.021018569669199086,0.022737929563980287,0.016744634963313843,0.013750953884748486,0.08777756153819315,0.10112915898979989,0.11965538404211935,0.09084804773812952,1.0,0.04094517209957207,0.02936515808210236,0.034258484091749655,0.036812266923001026,0.10760486059069703,0.1322965007558955,0.05611604484443895,0.12668338378936292,0.0871723932156112,0.01562667612365682,0.08298705303598004,0.05809307483623971,0.048843968533004045],[0.043477383947055116,0.01917109799424554,-0.005290735360401962,0.08565311033524503,0.053176136205791424,0.07655121717311536,0.09168253337045001,0.0670364770603218,0.035161492212529635,0.033758294310491974,0.026772946799410387,0.04654174010083327,0.029982669563514985,0.023941209741129288,0.03791012128939775,0.02367610573775451,0.02287552329741144,0.05811926138785691,0.06095128123932135,0.0391634038788518,0.024285169144519798,0.04094517209957207,1.0,0.03932617326706648,0.031057158562230205,0.02327390068717761,0.050290805400689774,0.07291637481684306,0.03191252257254643,0.01872677654053915,0.06323875256305111,0.038806232518467355,0.09692088686085285,0.03876936557174096,0.016176384887945736],[0.05814353500683404,0.016059410909012924,-0.0015606924826697401,0.10812943491695563,0.16427332479075132,0.09940384009708422,0.0746333071827171,0.041352848976374,0.030362983893748113,0.03599406564793263,0.0014297419361857097,0.027127935700600722,0.046685824256689684,0.028132737169688064,0.020057928960693843,0.023609068655490256,0.02836463142264971,0.027909145790642558,0.39599814170237563,0.03168324379720981,0.06303577699994023,0.02936515808210236,0.03932617326706648,1.0,0.042083937808229714,0.1355911921810238,0.045925507404917694,0.0657038748748979,0.023619366992796233,0.010718518204218366,0.03554994042638296,0.044753701861906636,0.05833018601139539,0.03648844701010547,0.020403974836998864],[0.03774229819562744,0.03212820341713457,-0.004592836401785041,0.0643288116692,0.03634399743980144,0.04391380476106985,0.022976170924083918,0.04607186962730603,0.022321643802063675,0.04693790091867079,0.04225443266540362,0.04848616507474272,0.014355576571242323,0.027179884787414715,0.024661514876915196,0.043944315602046924,0.03658354077063157,0.025288935049359824,0.2570514494396113,0.04450466938550922,0.0896747427945519,0.034258484091749655,0.031057158562230205,0.042083937808229714,1.0,0.02919452763325515,0.04880991328229483,0.07999824303961267,0.04335190589515383,0.03254801874957823,0.04218292766564558,0.05371411435598941,0.05845188689289745,0.027008141584489845,0.035217996629148984],[0.06078646153814387,0.022457203458181547,-0.0021167513396726785,0.11587114243619842,0.060462282944775396,0.08008603671528551,0.04401522021219673,0.033020511094266645,0.03133641314266426,0.0595369252763124,0.03853399386913504,0.15645630378820555,0.03494328428480609,0.03493961487356548,0.0315499276500179,0.12519173579974952,0.03530975860528808,0.06603192452293062,0.4139983199671218,0.04352532554645777,0.0807422808427735,0.036812266923001026,0.02327390068717761,0.1355911921810238,0.02919452763325515,1.0,0.08512509178319481,0.0697899491626444,0.03915276325759395,0.03891936222930915,0.0536326076297027,0.04108844965030109,0.03442828595465983,0.043855076509741575,0.02126500229246824],[0.11928705631655193,-0.003391739319689346,-0.014515966454211247,0.13065725991141586,0.034320520510784554,0.043493571957122903,0.061348189576901385,0.03248592180398078,0.033424527669524494,0.05568925824758073,0.025297273060790174,0.09696519001719663,0.004666111394970924,0.05249318690343431,0.029549676374972796,0.08015284434665558,0.06717273178381432,0.13543018720873978,0.8124282884583846,0.13351889533888645,0.2492927008811673,0.10760486059069703,0.050290805400689774,0.045925507404917694,0.04880991328229483,0.08512509178319481,1.0,0.21231943635660322,0.1815429213620742,0.12365356253784265,0.05330658834843484,0.06613669363075048,0.02985391442759764,0.16381720579899156,0.002158174516412561],[0.34613566793623335,-0.016616814513009545,-0.014109546811714304,0.20631413876373603,0.09541577462839054,0.04529508776497811,0.1430529326127859,0.07953973604346,-0.016319347980468277,-0.0009588504540070751,-0.016652317755353353,0.09024220355141066,0.011373881144911651,0.06855479162892407,0.12257506915990694,0.10473116494698599,0.16691649502368724,0.16856424706208228,0.2326657307208228,0.25616496599206484,0.21741129640993012,0.1322965007558955,0.07291637481684306,0.0657038748748979,0.07999824303961267,0.0697899491626444,0.21231943635660322,1.0,0.48136936422845783,0.515646532912585,0.16767873175280432,0.5170429596856483,0.23099000337950668,0.3785222790050858,0.0771214947530094],[0.16661910641115465,-0.006439773255529306,-0.0015977268214050237,0.1662052581697031,0.18516829992798622,0.09127788723771438,0.1433278605705552,0.10668728792607303,-0.000939178793252308,0.020793139480908922,0.012358963367614183,0.06731349001220623,0.009538803985505743,0.04536745434862661,0.17210342500336306,0.1473950045026317,0.15803273712511487,0.10600274791108687,0.17177341798466056,0.39711243829530013,0.16231464113222976,0.05611604484443895,0.03191252257254643,0.023619366992796233,0.04335190589515383,0.03915276325759395,0.1815429213620742,0.48136936422845783,1.0,0.20543781250544108,0.041279891565919255,0.00273670526400365,0.0445375644795897,0.10222725522059639,0.0016937376648737334],[0.17848365708854813,-0.0467662493265244,-0.013875404057944374,0.05842275513343045,0.006502050375013135,-0.00014373045114677695,0.038489804610326916,0.0027591052054625003,-0.03222312368035669,-0.004800862701392701,-0.0018167450632923534,0.054068651514124495,-0.003207655559233354,0.023020419122970825,0.030994648994588425,0.03718278041564521,0.07929885937830314,0.05774508206149353,0.11872242082317289,0.09373687610723165,0.11288512740283557,0.12668338378936292,0.01872677654053915,0.010718518204218366,0.03254801874957823,0.03891936222930915,0.12365356253784265,0.515646532912585,0.20543781250544108,1.0,0.027400151587214726,-0.019123818591857224,0.08045428145188627,0.15533869435193023,0.06971589341709085],[0.05803958981389067,-0.009318788119763654,-0.0015383814621188242,0.05293819266906603,0.026557317412941216,0.03353128894694514,0.05225861340883468,0.058180710833747,0.042942517411605985,0.013448843553552099,0.0074413613897224146,0.016859403169464687,0.007832448597878747,0.0035890005580381983,0.009667640941965825,0.03195576758990444,0.0355914134420462,0.03467314676048972,0.07579068717656898,0.038896378331648634,0.07165049720271298,0.0871723932156112,0.06323875256305111,0.03554994042638296,0.04218292766564558,0.0536326076297027,0.05330658834843484,0.16767873175280432,0.041279891565919255,0.027400151587214726,1.0,0.017016738077959143,0.04009221759823681,0.06981086510882992,0.0037610060827664073],[0.1789670102023438,0.005924993670630824,-0.011994687068151008,0.07881949047218684,0.015225093929707155,0.003697297809516612,0.06531689310929344,0.01930343247370961,-0.019941945062802287,-0.018607387724644493,-0.05732969999783274,0.020664266483001015,-0.0033989381064806054,0.062016591063065854,0.05299780078193432,0.01711581182718562,0.09323046804757011,0.10354477115657322,0.09307347954307073,0.033659605250578414,0.11763805756093122,0.01562667612365682,0.038806232518467355,0.044753701861906636,0.05371411435598941,0.04108844965030109,0.06613669363075048,0.5170429596856483,0.00273670526400365,-0.019123818591857224,0.017016738077959143,1.0,0.03723753228462764,0.015986690946242613,0.02731261913245262],[0.07995387910624807,-0.002237030354008241,-0.009729536991094113,0.08046566280112816,0.030634802435202387,0.04010075550578929,0.0649393044006957,0.037568057052475325,0.011395864262442709,0.0066055273528929275,0.0021365395981264917,0.07157079964729572,0.04121740571130591,0.004880046076875139,0.027952342145954958,0.03196915536369375,0.052902898238400914,0.03277119603606077,0.0772717602368628,0.07072394161972093,0.05412084537999079,0.08298705303598004,0.09692088686085285,0.05833018601139539,0.05845188689289745,0.03442828595465983,0.02985391442759764,0.23099000337950668,0.0445375644795897,0.08045428145188627,0.04009221759823681,0.03723753228462764,1.0,0.07413250040050003,0.0031991571873727746],[0.13102006187207746,-0.016166082270786874,-0.0057204560721026265,0.12495914080131014,0.03848171091617709,0.031840298953009764,0.04460903229575884,0.013009585742566696,0.006277478385994377,0.04804607554648733,0.044848302179762746,0.052888498731219306,0.0022046757901381157,0.0320102963963016,0.031061001464965758,0.045478728579530295,0.08443096811590944,0.09616479446719778,0.15743411243449065,0.05934120617212517,0.09933363532410404,0.05809307483623971,0.03876936557174096,0.03648844701010547,0.027008141584489845,0.043855076509741575,0.16381720579899156,0.3785222790050858,0.10222725522059639,0.15533869435193023,0.06981086510882992,0.015986690946242613,0.07413250040050003,1.0,0.0024721119416337236],[0.2729289343859121,0.6473742181141177,0.0187544281453344,0.37316468213865644,0.09849659522916358,0.06202666667003934,0.05651320689718433,0.04813396022041189,-0.03889136389768748,0.1926185861917203,0.29702204561713835,0.23367914985934332,0.06662548258317133,0.016251300564271248,0.008108315027618558,0.005052284564954886,0.010286154280945453,0.19173197756507834,0.03039761101996557,0.03874770229463615,0.07482645643434743,0.048843968533004045,0.016176384887945736,0.020403974836998864,0.035217996629148984,0.02126500229246824,0.002158174516412561,0.0771214947530094,0.0016937376648737334,0.06971589341709085,0.0037610060827664073,0.02731261913245262,0.0031991571873727746,0.0024721119416337236,1.0]],\"type\":\"heatmap\",\"xaxis\":\"x\",\"yaxis\":\"y\",\"hovertemplate\":\"x: %{x}<br>y: %{y}<br>color: %{z}<extra></extra>\"}],                        {\"template\":{\"data\":{\"histogram2dcontour\":[{\"type\":\"histogram2dcontour\",\"colorbar\":{\"outlinewidth\":0,\"ticks\":\"\"},\"colorscale\":[[0.0,\"#0d0887\"],[0.1111111111111111,\"#46039f\"],[0.2222222222222222,\"#7201a8\"],[0.3333333333333333,\"#9c179e\"],[0.4444444444444444,\"#bd3786\"],[0.5555555555555556,\"#d8576b\"],[0.6666666666666666,\"#ed7953\"],[0.7777777777777778,\"#fb9f3a\"],[0.8888888888888888,\"#fdca26\"],[1.0,\"#f0f921\"]]}],\"choropleth\":[{\"type\":\"choropleth\",\"colorbar\":{\"outlinewidth\":0,\"ticks\":\"\"}}],\"histogram2d\":[{\"type\":\"histogram2d\",\"colorbar\":{\"outlinewidth\":0,\"ticks\":\"\"},\"colorscale\":[[0.0,\"#0d0887\"],[0.1111111111111111,\"#46039f\"],[0.2222222222222222,\"#7201a8\"],[0.3333333333333333,\"#9c179e\"],[0.4444444444444444,\"#bd3786\"],[0.5555555555555556,\"#d8576b\"],[0.6666666666666666,\"#ed7953\"],[0.7777777777777778,\"#fb9f3a\"],[0.8888888888888888,\"#fdca26\"],[1.0,\"#f0f921\"]]}],\"heatmap\":[{\"type\":\"heatmap\",\"colorbar\":{\"outlinewidth\":0,\"ticks\":\"\"},\"colorscale\":[[0.0,\"#0d0887\"],[0.1111111111111111,\"#46039f\"],[0.2222222222222222,\"#7201a8\"],[0.3333333333333333,\"#9c179e\"],[0.4444444444444444,\"#bd3786\"],[0.5555555555555556,\"#d8576b\"],[0.6666666666666666,\"#ed7953\"],[0.7777777777777778,\"#fb9f3a\"],[0.8888888888888888,\"#fdca26\"],[1.0,\"#f0f921\"]]}],\"heatmapgl\":[{\"type\":\"heatmapgl\",\"colorbar\":{\"outlinewidth\":0,\"ticks\":\"\"},\"colorscale\":[[0.0,\"#0d0887\"],[0.1111111111111111,\"#46039f\"],[0.2222222222222222,\"#7201a8\"],[0.3333333333333333,\"#9c179e\"],[0.4444444444444444,\"#bd3786\"],[0.5555555555555556,\"#d8576b\"],[0.6666666666666666,\"#ed7953\"],[0.7777777777777778,\"#fb9f3a\"],[0.8888888888888888,\"#fdca26\"],[1.0,\"#f0f921\"]]}],\"contourcarpet\":[{\"type\":\"contourcarpet\",\"colorbar\":{\"outlinewidth\":0,\"ticks\":\"\"}}],\"contour\":[{\"type\":\"contour\",\"colorbar\":{\"outlinewidth\":0,\"ticks\":\"\"},\"colorscale\":[[0.0,\"#0d0887\"],[0.1111111111111111,\"#46039f\"],[0.2222222222222222,\"#7201a8\"],[0.3333333333333333,\"#9c179e\"],[0.4444444444444444,\"#bd3786\"],[0.5555555555555556,\"#d8576b\"],[0.6666666666666666,\"#ed7953\"],[0.7777777777777778,\"#fb9f3a\"],[0.8888888888888888,\"#fdca26\"],[1.0,\"#f0f921\"]]}],\"surface\":[{\"type\":\"surface\",\"colorbar\":{\"outlinewidth\":0,\"ticks\":\"\"},\"colorscale\":[[0.0,\"#0d0887\"],[0.1111111111111111,\"#46039f\"],[0.2222222222222222,\"#7201a8\"],[0.3333333333333333,\"#9c179e\"],[0.4444444444444444,\"#bd3786\"],[0.5555555555555556,\"#d8576b\"],[0.6666666666666666,\"#ed7953\"],[0.7777777777777778,\"#fb9f3a\"],[0.8888888888888888,\"#fdca26\"],[1.0,\"#f0f921\"]]}],\"mesh3d\":[{\"type\":\"mesh3d\",\"colorbar\":{\"outlinewidth\":0,\"ticks\":\"\"}}],\"scatter\":[{\"fillpattern\":{\"fillmode\":\"overlay\",\"size\":10,\"solidity\":0.2},\"type\":\"scatter\"}],\"parcoords\":[{\"type\":\"parcoords\",\"line\":{\"colorbar\":{\"outlinewidth\":0,\"ticks\":\"\"}}}],\"scatterpolargl\":[{\"type\":\"scatterpolargl\",\"marker\":{\"colorbar\":{\"outlinewidth\":0,\"ticks\":\"\"}}}],\"bar\":[{\"error_x\":{\"color\":\"#2a3f5f\"},\"error_y\":{\"color\":\"#2a3f5f\"},\"marker\":{\"line\":{\"color\":\"#E5ECF6\",\"width\":0.5},\"pattern\":{\"fillmode\":\"overlay\",\"size\":10,\"solidity\":0.2}},\"type\":\"bar\"}],\"scattergeo\":[{\"type\":\"scattergeo\",\"marker\":{\"colorbar\":{\"outlinewidth\":0,\"ticks\":\"\"}}}],\"scatterpolar\":[{\"type\":\"scatterpolar\",\"marker\":{\"colorbar\":{\"outlinewidth\":0,\"ticks\":\"\"}}}],\"histogram\":[{\"marker\":{\"pattern\":{\"fillmode\":\"overlay\",\"size\":10,\"solidity\":0.2}},\"type\":\"histogram\"}],\"scattergl\":[{\"type\":\"scattergl\",\"marker\":{\"colorbar\":{\"outlinewidth\":0,\"ticks\":\"\"}}}],\"scatter3d\":[{\"type\":\"scatter3d\",\"line\":{\"colorbar\":{\"outlinewidth\":0,\"ticks\":\"\"}},\"marker\":{\"colorbar\":{\"outlinewidth\":0,\"ticks\":\"\"}}}],\"scattermapbox\":[{\"type\":\"scattermapbox\",\"marker\":{\"colorbar\":{\"outlinewidth\":0,\"ticks\":\"\"}}}],\"scatterternary\":[{\"type\":\"scatterternary\",\"marker\":{\"colorbar\":{\"outlinewidth\":0,\"ticks\":\"\"}}}],\"scattercarpet\":[{\"type\":\"scattercarpet\",\"marker\":{\"colorbar\":{\"outlinewidth\":0,\"ticks\":\"\"}}}],\"carpet\":[{\"aaxis\":{\"endlinecolor\":\"#2a3f5f\",\"gridcolor\":\"white\",\"linecolor\":\"white\",\"minorgridcolor\":\"white\",\"startlinecolor\":\"#2a3f5f\"},\"baxis\":{\"endlinecolor\":\"#2a3f5f\",\"gridcolor\":\"white\",\"linecolor\":\"white\",\"minorgridcolor\":\"white\",\"startlinecolor\":\"#2a3f5f\"},\"type\":\"carpet\"}],\"table\":[{\"cells\":{\"fill\":{\"color\":\"#EBF0F8\"},\"line\":{\"color\":\"white\"}},\"header\":{\"fill\":{\"color\":\"#C8D4E3\"},\"line\":{\"color\":\"white\"}},\"type\":\"table\"}],\"barpolar\":[{\"marker\":{\"line\":{\"color\":\"#E5ECF6\",\"width\":0.5},\"pattern\":{\"fillmode\":\"overlay\",\"size\":10,\"solidity\":0.2}},\"type\":\"barpolar\"}],\"pie\":[{\"automargin\":true,\"type\":\"pie\"}]},\"layout\":{\"autotypenumbers\":\"strict\",\"colorway\":[\"#636efa\",\"#EF553B\",\"#00cc96\",\"#ab63fa\",\"#FFA15A\",\"#19d3f3\",\"#FF6692\",\"#B6E880\",\"#FF97FF\",\"#FECB52\"],\"font\":{\"color\":\"#2a3f5f\"},\"hovermode\":\"closest\",\"hoverlabel\":{\"align\":\"left\"},\"paper_bgcolor\":\"white\",\"plot_bgcolor\":\"#E5ECF6\",\"polar\":{\"bgcolor\":\"#E5ECF6\",\"angularaxis\":{\"gridcolor\":\"white\",\"linecolor\":\"white\",\"ticks\":\"\"},\"radialaxis\":{\"gridcolor\":\"white\",\"linecolor\":\"white\",\"ticks\":\"\"}},\"ternary\":{\"bgcolor\":\"#E5ECF6\",\"aaxis\":{\"gridcolor\":\"white\",\"linecolor\":\"white\",\"ticks\":\"\"},\"baxis\":{\"gridcolor\":\"white\",\"linecolor\":\"white\",\"ticks\":\"\"},\"caxis\":{\"gridcolor\":\"white\",\"linecolor\":\"white\",\"ticks\":\"\"}},\"coloraxis\":{\"colorbar\":{\"outlinewidth\":0,\"ticks\":\"\"}},\"colorscale\":{\"sequential\":[[0.0,\"#0d0887\"],[0.1111111111111111,\"#46039f\"],[0.2222222222222222,\"#7201a8\"],[0.3333333333333333,\"#9c179e\"],[0.4444444444444444,\"#bd3786\"],[0.5555555555555556,\"#d8576b\"],[0.6666666666666666,\"#ed7953\"],[0.7777777777777778,\"#fb9f3a\"],[0.8888888888888888,\"#fdca26\"],[1.0,\"#f0f921\"]],\"sequentialminus\":[[0.0,\"#0d0887\"],[0.1111111111111111,\"#46039f\"],[0.2222222222222222,\"#7201a8\"],[0.3333333333333333,\"#9c179e\"],[0.4444444444444444,\"#bd3786\"],[0.5555555555555556,\"#d8576b\"],[0.6666666666666666,\"#ed7953\"],[0.7777777777777778,\"#fb9f3a\"],[0.8888888888888888,\"#fdca26\"],[1.0,\"#f0f921\"]],\"diverging\":[[0,\"#8e0152\"],[0.1,\"#c51b7d\"],[0.2,\"#de77ae\"],[0.3,\"#f1b6da\"],[0.4,\"#fde0ef\"],[0.5,\"#f7f7f7\"],[0.6,\"#e6f5d0\"],[0.7,\"#b8e186\"],[0.8,\"#7fbc41\"],[0.9,\"#4d9221\"],[1,\"#276419\"]]},\"xaxis\":{\"gridcolor\":\"white\",\"linecolor\":\"white\",\"ticks\":\"\",\"title\":{\"standoff\":15},\"zerolinecolor\":\"white\",\"automargin\":true,\"zerolinewidth\":2},\"yaxis\":{\"gridcolor\":\"white\",\"linecolor\":\"white\",\"ticks\":\"\",\"title\":{\"standoff\":15},\"zerolinecolor\":\"white\",\"automargin\":true,\"zerolinewidth\":2},\"scene\":{\"xaxis\":{\"backgroundcolor\":\"#E5ECF6\",\"gridcolor\":\"white\",\"linecolor\":\"white\",\"showbackground\":true,\"ticks\":\"\",\"zerolinecolor\":\"white\",\"gridwidth\":2},\"yaxis\":{\"backgroundcolor\":\"#E5ECF6\",\"gridcolor\":\"white\",\"linecolor\":\"white\",\"showbackground\":true,\"ticks\":\"\",\"zerolinecolor\":\"white\",\"gridwidth\":2},\"zaxis\":{\"backgroundcolor\":\"#E5ECF6\",\"gridcolor\":\"white\",\"linecolor\":\"white\",\"showbackground\":true,\"ticks\":\"\",\"zerolinecolor\":\"white\",\"gridwidth\":2}},\"shapedefaults\":{\"line\":{\"color\":\"#2a3f5f\"}},\"annotationdefaults\":{\"arrowcolor\":\"#2a3f5f\",\"arrowhead\":0,\"arrowwidth\":1},\"geo\":{\"bgcolor\":\"white\",\"landcolor\":\"#E5ECF6\",\"subunitcolor\":\"white\",\"showland\":true,\"showlakes\":true,\"lakecolor\":\"white\"},\"title\":{\"x\":0.05},\"mapbox\":{\"style\":\"light\"}}},\"xaxis\":{\"anchor\":\"y\",\"domain\":[0.0,1.0],\"scaleanchor\":\"y\",\"constrain\":\"domain\"},\"yaxis\":{\"anchor\":\"x\",\"domain\":[0.0,1.0],\"autorange\":\"reversed\",\"constrain\":\"domain\"},\"coloraxis\":{\"colorscale\":[[0.0,\"rgb(63,0,125)\"],[0.125,\"rgb(84,39,143)\"],[0.25,\"rgb(106,81,163)\"],[0.375,\"rgb(128,125,186)\"],[0.5,\"rgb(158,154,200)\"],[0.625,\"rgb(188,189,220)\"],[0.75,\"rgb(218,218,235)\"],[0.875,\"rgb(239,237,245)\"],[1.0,\"rgb(252,251,253)\"]]},\"margin\":{\"t\":60}},                        {\"responsive\": true}                    ).then(function(){\n",
       "                            \n",
       "var gd = document.getElementById('a9d7ff13-3424-4908-9d61-9bbedad53594');\n",
       "var x = new MutationObserver(function (mutations, observer) {{\n",
       "        var display = window.getComputedStyle(gd).display;\n",
       "        if (!display || display === 'none') {{\n",
       "            console.log([gd, 'removed!']);\n",
       "            Plotly.purge(gd);\n",
       "            observer.disconnect();\n",
       "        }}\n",
       "}});\n",
       "\n",
       "// Listen for the removal of the full notebook cells\n",
       "var notebookContainer = gd.closest('#notebook-container');\n",
       "if (notebookContainer) {{\n",
       "    x.observe(notebookContainer, {childList: true});\n",
       "}}\n",
       "\n",
       "// Listen for the clearing of the current output cell\n",
       "var outputEl = gd.closest('.output');\n",
       "if (outputEl) {{\n",
       "    x.observe(outputEl, {childList: true});\n",
       "}}\n",
       "\n",
       "                        })                };                });            </script>        </div>"
      ]
     },
     "metadata": {},
     "output_type": "display_data"
    }
   ],
   "source": []
  },
  {
   "cell_type": "code",
   "execution_count": null,
   "metadata": {},
   "outputs": [],
   "source": []
  }
 ],
 "metadata": {
  "kernelspec": {
   "display_name": "Python 3",
   "language": "python",
   "name": "python3"
  },
  "language_info": {
   "codemirror_mode": {
    "name": "ipython",
    "version": 3
   },
   "file_extension": ".py",
   "mimetype": "text/x-python",
   "name": "python",
   "nbconvert_exporter": "python",
   "pygments_lexer": "ipython3",
   "version": "3.6.3"
  }
 },
 "nbformat": 4,
 "nbformat_minor": 2
}
